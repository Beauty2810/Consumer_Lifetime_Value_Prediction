{
 "cells": [
  {
   "cell_type": "markdown",
   "id": "1468621c",
   "metadata": {},
   "source": [
    "# Predict CLTV of a customer - Regression Problem"
   ]
  },
  {
   "cell_type": "markdown",
   "id": "4e329415",
   "metadata": {},
   "source": [
    "* Problem Statement\n",
    "\n",
    "VahanBima is one of the leading insurance companies in India. It provides motor vehicle insurances at best prices with 24/7 claim settlement.  It offers different types of policies for  both personal and commercial vehicles. It has established its brand across different regions in India. \n",
    "\n",
    "Around 90% of the businesses today use personalized services. The company wants to launch different personalized experience programs for customers of VahanBima. The personalized experience can be dedicated resources for claim settlement, different kinds of services at doorstep, etc. Inorder to do so, they would like to segment the customers into different tiers based on their customer lifetime value (CLTV).\n",
    "\n",
    "Inorder to do it, they would like to predict the customer lifetime value based on the activity and interaction of the customer with the platform. So, as a part of this challenge, your task at hand is to build a high performance and interpretable machine learning model to predict the CLTV based on the user and policy data."
   ]
  },
  {
   "cell_type": "markdown",
   "id": "625264e4",
   "metadata": {},
   "source": [
    "* About the Dataset\n",
    "\n",
    "You are provided with the sample dataset of the company holding the information of customers and policy such as highest qualification of the user, total income earned by a customer in a year, employee status,  policy opted by the user, type of policy and so on and the target variable indicating the total customer lifetime value."
   ]
  },
  {
   "cell_type": "markdown",
   "id": "6fd30c45",
   "metadata": {},
   "source": [
    "1. id-- Unique identifier of a customer\n",
    "2. gender-- Gender of the customer\n",
    "3. area-- Area of the customer\n",
    "4. qualification-- Highest Qualification of the customer\n",
    "5. income-- Income earned in a year (in rupees)\n",
    "6. marital_status-- Marital Status of the customer {0:Single, 1: Married}\n",
    "7. vintage-- No. of years since the first policy date\n",
    "8. claim_amount-- Total Amount Claimed by the customer (in rupees)\n",
    "9. num_policies-- Total no. of policies issued by the customer\n",
    "10. policy-- Active policy of the customer\n",
    "11. type_of_policy-- Type of active policy \n",
    "12. cltv-- Customer life time value (Target Variable)"
   ]
  },
  {
   "cell_type": "code",
   "execution_count": 106,
   "id": "ba03b063",
   "metadata": {},
   "outputs": [],
   "source": [
    "# Importing basic libraries\n",
    "import pandas as pd\n",
    "import numpy as np\n",
    "import matplotlib.pyplot as plt\n",
    "import seaborn as sns"
   ]
  },
  {
   "cell_type": "code",
   "execution_count": 2,
   "id": "b39ee70a",
   "metadata": {},
   "outputs": [
    {
     "name": "stdout",
     "output_type": "stream",
     "text": [
      " Volume in drive C has no label.\n",
      " Volume Serial Number is AC64-25E6\n",
      "\n",
      " Directory of C:\\Users\\Paresh\\OneDrive\\Documents\\Job-a-thon_JAN2023\n",
      "\n",
      "22-01-2023  14:02    <DIR>          .\n",
      "21-01-2023  12:00    <DIR>          ..\n",
      "21-01-2023  12:08    <DIR>          .ipynb_checkpoints\n",
      "22-01-2023  12:57    <DIR>          catboost_info\n",
      "21-01-2023  19:02           985,883 cltv_predictions.csv\n",
      "21-01-2023  12:08             5,721 How to Create Sample Submission File.ipynb\n",
      "22-01-2023  14:02           262,280 Job-a-thon_JAN2023.ipynb\n",
      "21-01-2023  12:06         1,538,872 sample_submission.csv\n",
      "21-01-2023  11:55         3,861,619 test_koRSKBP.csv\n",
      "21-01-2023  11:55         6,265,883 train_BRCpofr.csv\n",
      "               6 File(s)     12,920,258 bytes\n",
      "               4 Dir(s)  246,492,389,376 bytes free\n"
     ]
    }
   ],
   "source": [
    "ls"
   ]
  },
  {
   "cell_type": "code",
   "execution_count": 3,
   "id": "6ff815b1",
   "metadata": {},
   "outputs": [],
   "source": [
    "# Reading the train and test data\n",
    "\n",
    "train_data = pd.read_csv(\"train_BRCpofr.csv\")\n",
    "test_data = pd.read_csv(\"test_koRSKBP.csv\")"
   ]
  },
  {
   "cell_type": "markdown",
   "id": "1b4017ac",
   "metadata": {},
   "source": [
    "# EDA - Exploratory Data Analysis"
   ]
  },
  {
   "cell_type": "code",
   "execution_count": 4,
   "id": "835d3d20",
   "metadata": {},
   "outputs": [
    {
     "data": {
      "text/plain": [
       "(89392, 12)"
      ]
     },
     "execution_count": 4,
     "metadata": {},
     "output_type": "execute_result"
    }
   ],
   "source": [
    "train_data.shape"
   ]
  },
  {
   "cell_type": "code",
   "execution_count": 5,
   "id": "d1665358",
   "metadata": {},
   "outputs": [
    {
     "data": {
      "text/plain": [
       "(59595, 11)"
      ]
     },
     "execution_count": 5,
     "metadata": {},
     "output_type": "execute_result"
    }
   ],
   "source": [
    "test_data.shape"
   ]
  },
  {
   "cell_type": "code",
   "execution_count": 6,
   "id": "eaa67c24",
   "metadata": {},
   "outputs": [
    {
     "data": {
      "text/html": [
       "<div>\n",
       "<style scoped>\n",
       "    .dataframe tbody tr th:only-of-type {\n",
       "        vertical-align: middle;\n",
       "    }\n",
       "\n",
       "    .dataframe tbody tr th {\n",
       "        vertical-align: top;\n",
       "    }\n",
       "\n",
       "    .dataframe thead th {\n",
       "        text-align: right;\n",
       "    }\n",
       "</style>\n",
       "<table border=\"1\" class=\"dataframe\">\n",
       "  <thead>\n",
       "    <tr style=\"text-align: right;\">\n",
       "      <th></th>\n",
       "      <th>id</th>\n",
       "      <th>gender</th>\n",
       "      <th>area</th>\n",
       "      <th>qualification</th>\n",
       "      <th>income</th>\n",
       "      <th>marital_status</th>\n",
       "      <th>vintage</th>\n",
       "      <th>claim_amount</th>\n",
       "      <th>num_policies</th>\n",
       "      <th>policy</th>\n",
       "      <th>type_of_policy</th>\n",
       "      <th>cltv</th>\n",
       "    </tr>\n",
       "  </thead>\n",
       "  <tbody>\n",
       "    <tr>\n",
       "      <th>0</th>\n",
       "      <td>1</td>\n",
       "      <td>Male</td>\n",
       "      <td>Urban</td>\n",
       "      <td>Bachelor</td>\n",
       "      <td>5L-10L</td>\n",
       "      <td>1</td>\n",
       "      <td>5</td>\n",
       "      <td>5790</td>\n",
       "      <td>More than 1</td>\n",
       "      <td>A</td>\n",
       "      <td>Platinum</td>\n",
       "      <td>64308</td>\n",
       "    </tr>\n",
       "    <tr>\n",
       "      <th>1</th>\n",
       "      <td>2</td>\n",
       "      <td>Male</td>\n",
       "      <td>Rural</td>\n",
       "      <td>High School</td>\n",
       "      <td>5L-10L</td>\n",
       "      <td>0</td>\n",
       "      <td>8</td>\n",
       "      <td>5080</td>\n",
       "      <td>More than 1</td>\n",
       "      <td>A</td>\n",
       "      <td>Platinum</td>\n",
       "      <td>515400</td>\n",
       "    </tr>\n",
       "    <tr>\n",
       "      <th>2</th>\n",
       "      <td>3</td>\n",
       "      <td>Male</td>\n",
       "      <td>Urban</td>\n",
       "      <td>Bachelor</td>\n",
       "      <td>5L-10L</td>\n",
       "      <td>1</td>\n",
       "      <td>8</td>\n",
       "      <td>2599</td>\n",
       "      <td>More than 1</td>\n",
       "      <td>A</td>\n",
       "      <td>Platinum</td>\n",
       "      <td>64212</td>\n",
       "    </tr>\n",
       "    <tr>\n",
       "      <th>3</th>\n",
       "      <td>4</td>\n",
       "      <td>Female</td>\n",
       "      <td>Rural</td>\n",
       "      <td>High School</td>\n",
       "      <td>5L-10L</td>\n",
       "      <td>0</td>\n",
       "      <td>7</td>\n",
       "      <td>0</td>\n",
       "      <td>More than 1</td>\n",
       "      <td>A</td>\n",
       "      <td>Platinum</td>\n",
       "      <td>97920</td>\n",
       "    </tr>\n",
       "    <tr>\n",
       "      <th>4</th>\n",
       "      <td>5</td>\n",
       "      <td>Male</td>\n",
       "      <td>Urban</td>\n",
       "      <td>High School</td>\n",
       "      <td>More than 10L</td>\n",
       "      <td>1</td>\n",
       "      <td>6</td>\n",
       "      <td>3508</td>\n",
       "      <td>More than 1</td>\n",
       "      <td>A</td>\n",
       "      <td>Gold</td>\n",
       "      <td>59736</td>\n",
       "    </tr>\n",
       "  </tbody>\n",
       "</table>\n",
       "</div>"
      ],
      "text/plain": [
       "   id  gender   area qualification         income  marital_status  vintage  \\\n",
       "0   1    Male  Urban      Bachelor         5L-10L               1        5   \n",
       "1   2    Male  Rural   High School         5L-10L               0        8   \n",
       "2   3    Male  Urban      Bachelor         5L-10L               1        8   \n",
       "3   4  Female  Rural   High School         5L-10L               0        7   \n",
       "4   5    Male  Urban   High School  More than 10L               1        6   \n",
       "\n",
       "   claim_amount num_policies policy type_of_policy    cltv  \n",
       "0          5790  More than 1      A       Platinum   64308  \n",
       "1          5080  More than 1      A       Platinum  515400  \n",
       "2          2599  More than 1      A       Platinum   64212  \n",
       "3             0  More than 1      A       Platinum   97920  \n",
       "4          3508  More than 1      A           Gold   59736  "
      ]
     },
     "execution_count": 6,
     "metadata": {},
     "output_type": "execute_result"
    }
   ],
   "source": [
    "train_data.head()"
   ]
  },
  {
   "cell_type": "code",
   "execution_count": 7,
   "id": "a70d1a07",
   "metadata": {},
   "outputs": [
    {
     "data": {
      "text/html": [
       "<div>\n",
       "<style scoped>\n",
       "    .dataframe tbody tr th:only-of-type {\n",
       "        vertical-align: middle;\n",
       "    }\n",
       "\n",
       "    .dataframe tbody tr th {\n",
       "        vertical-align: top;\n",
       "    }\n",
       "\n",
       "    .dataframe thead th {\n",
       "        text-align: right;\n",
       "    }\n",
       "</style>\n",
       "<table border=\"1\" class=\"dataframe\">\n",
       "  <thead>\n",
       "    <tr style=\"text-align: right;\">\n",
       "      <th></th>\n",
       "      <th>id</th>\n",
       "      <th>gender</th>\n",
       "      <th>area</th>\n",
       "      <th>qualification</th>\n",
       "      <th>income</th>\n",
       "      <th>marital_status</th>\n",
       "      <th>vintage</th>\n",
       "      <th>claim_amount</th>\n",
       "      <th>num_policies</th>\n",
       "      <th>policy</th>\n",
       "      <th>type_of_policy</th>\n",
       "      <th>cltv</th>\n",
       "    </tr>\n",
       "  </thead>\n",
       "  <tbody>\n",
       "    <tr>\n",
       "      <th>89387</th>\n",
       "      <td>89388</td>\n",
       "      <td>Male</td>\n",
       "      <td>Rural</td>\n",
       "      <td>High School</td>\n",
       "      <td>More than 10L</td>\n",
       "      <td>0</td>\n",
       "      <td>6</td>\n",
       "      <td>0</td>\n",
       "      <td>More than 1</td>\n",
       "      <td>B</td>\n",
       "      <td>Platinum</td>\n",
       "      <td>95736</td>\n",
       "    </tr>\n",
       "    <tr>\n",
       "      <th>89388</th>\n",
       "      <td>89389</td>\n",
       "      <td>Male</td>\n",
       "      <td>Urban</td>\n",
       "      <td>Bachelor</td>\n",
       "      <td>5L-10L</td>\n",
       "      <td>1</td>\n",
       "      <td>0</td>\n",
       "      <td>3897</td>\n",
       "      <td>More than 1</td>\n",
       "      <td>A</td>\n",
       "      <td>Platinum</td>\n",
       "      <td>67596</td>\n",
       "    </tr>\n",
       "    <tr>\n",
       "      <th>89389</th>\n",
       "      <td>89390</td>\n",
       "      <td>Female</td>\n",
       "      <td>Urban</td>\n",
       "      <td>Bachelor</td>\n",
       "      <td>5L-10L</td>\n",
       "      <td>0</td>\n",
       "      <td>4</td>\n",
       "      <td>3363</td>\n",
       "      <td>More than 1</td>\n",
       "      <td>B</td>\n",
       "      <td>Platinum</td>\n",
       "      <td>114120</td>\n",
       "    </tr>\n",
       "    <tr>\n",
       "      <th>89390</th>\n",
       "      <td>89391</td>\n",
       "      <td>Female</td>\n",
       "      <td>Rural</td>\n",
       "      <td>High School</td>\n",
       "      <td>2L-5L</td>\n",
       "      <td>0</td>\n",
       "      <td>8</td>\n",
       "      <td>0</td>\n",
       "      <td>More than 1</td>\n",
       "      <td>B</td>\n",
       "      <td>Platinum</td>\n",
       "      <td>71772</td>\n",
       "    </tr>\n",
       "    <tr>\n",
       "      <th>89391</th>\n",
       "      <td>89392</td>\n",
       "      <td>Female</td>\n",
       "      <td>Rural</td>\n",
       "      <td>High School</td>\n",
       "      <td>5L-10L</td>\n",
       "      <td>0</td>\n",
       "      <td>6</td>\n",
       "      <td>0</td>\n",
       "      <td>More than 1</td>\n",
       "      <td>B</td>\n",
       "      <td>Gold</td>\n",
       "      <td>108144</td>\n",
       "    </tr>\n",
       "  </tbody>\n",
       "</table>\n",
       "</div>"
      ],
      "text/plain": [
       "          id  gender   area qualification         income  marital_status  \\\n",
       "89387  89388    Male  Rural   High School  More than 10L               0   \n",
       "89388  89389    Male  Urban      Bachelor         5L-10L               1   \n",
       "89389  89390  Female  Urban      Bachelor         5L-10L               0   \n",
       "89390  89391  Female  Rural   High School          2L-5L               0   \n",
       "89391  89392  Female  Rural   High School         5L-10L               0   \n",
       "\n",
       "       vintage  claim_amount num_policies policy type_of_policy    cltv  \n",
       "89387        6             0  More than 1      B       Platinum   95736  \n",
       "89388        0          3897  More than 1      A       Platinum   67596  \n",
       "89389        4          3363  More than 1      B       Platinum  114120  \n",
       "89390        8             0  More than 1      B       Platinum   71772  \n",
       "89391        6             0  More than 1      B           Gold  108144  "
      ]
     },
     "execution_count": 7,
     "metadata": {},
     "output_type": "execute_result"
    }
   ],
   "source": [
    "train_data.tail()"
   ]
  },
  {
   "cell_type": "code",
   "execution_count": 8,
   "id": "5641ee31",
   "metadata": {},
   "outputs": [
    {
     "name": "stdout",
     "output_type": "stream",
     "text": [
      "<class 'pandas.core.frame.DataFrame'>\n",
      "RangeIndex: 89392 entries, 0 to 89391\n",
      "Data columns (total 12 columns):\n",
      " #   Column          Non-Null Count  Dtype \n",
      "---  ------          --------------  ----- \n",
      " 0   id              89392 non-null  int64 \n",
      " 1   gender          89392 non-null  object\n",
      " 2   area            89392 non-null  object\n",
      " 3   qualification   89392 non-null  object\n",
      " 4   income          89392 non-null  object\n",
      " 5   marital_status  89392 non-null  int64 \n",
      " 6   vintage         89392 non-null  int64 \n",
      " 7   claim_amount    89392 non-null  int64 \n",
      " 8   num_policies    89392 non-null  object\n",
      " 9   policy          89392 non-null  object\n",
      " 10  type_of_policy  89392 non-null  object\n",
      " 11  cltv            89392 non-null  int64 \n",
      "dtypes: int64(5), object(7)\n",
      "memory usage: 8.2+ MB\n"
     ]
    }
   ],
   "source": [
    "train_data.info()"
   ]
  },
  {
   "cell_type": "code",
   "execution_count": 9,
   "id": "542c4a94",
   "metadata": {},
   "outputs": [
    {
     "data": {
      "text/html": [
       "<div>\n",
       "<style scoped>\n",
       "    .dataframe tbody tr th:only-of-type {\n",
       "        vertical-align: middle;\n",
       "    }\n",
       "\n",
       "    .dataframe tbody tr th {\n",
       "        vertical-align: top;\n",
       "    }\n",
       "\n",
       "    .dataframe thead th {\n",
       "        text-align: right;\n",
       "    }\n",
       "</style>\n",
       "<table border=\"1\" class=\"dataframe\">\n",
       "  <thead>\n",
       "    <tr style=\"text-align: right;\">\n",
       "      <th></th>\n",
       "      <th>id</th>\n",
       "      <th>gender</th>\n",
       "      <th>area</th>\n",
       "      <th>qualification</th>\n",
       "      <th>income</th>\n",
       "      <th>marital_status</th>\n",
       "      <th>vintage</th>\n",
       "      <th>claim_amount</th>\n",
       "      <th>num_policies</th>\n",
       "      <th>policy</th>\n",
       "      <th>type_of_policy</th>\n",
       "    </tr>\n",
       "  </thead>\n",
       "  <tbody>\n",
       "    <tr>\n",
       "      <th>0</th>\n",
       "      <td>89393</td>\n",
       "      <td>Female</td>\n",
       "      <td>Rural</td>\n",
       "      <td>High School</td>\n",
       "      <td>5L-10L</td>\n",
       "      <td>0</td>\n",
       "      <td>6</td>\n",
       "      <td>2134</td>\n",
       "      <td>More than 1</td>\n",
       "      <td>B</td>\n",
       "      <td>Silver</td>\n",
       "    </tr>\n",
       "    <tr>\n",
       "      <th>1</th>\n",
       "      <td>89394</td>\n",
       "      <td>Female</td>\n",
       "      <td>Urban</td>\n",
       "      <td>High School</td>\n",
       "      <td>2L-5L</td>\n",
       "      <td>0</td>\n",
       "      <td>4</td>\n",
       "      <td>4102</td>\n",
       "      <td>More than 1</td>\n",
       "      <td>A</td>\n",
       "      <td>Platinum</td>\n",
       "    </tr>\n",
       "    <tr>\n",
       "      <th>2</th>\n",
       "      <td>89395</td>\n",
       "      <td>Male</td>\n",
       "      <td>Rural</td>\n",
       "      <td>High School</td>\n",
       "      <td>5L-10L</td>\n",
       "      <td>1</td>\n",
       "      <td>7</td>\n",
       "      <td>2925</td>\n",
       "      <td>More than 1</td>\n",
       "      <td>B</td>\n",
       "      <td>Gold</td>\n",
       "    </tr>\n",
       "    <tr>\n",
       "      <th>3</th>\n",
       "      <td>89396</td>\n",
       "      <td>Female</td>\n",
       "      <td>Rural</td>\n",
       "      <td>Bachelor</td>\n",
       "      <td>More than 10L</td>\n",
       "      <td>1</td>\n",
       "      <td>2</td>\n",
       "      <td>0</td>\n",
       "      <td>More than 1</td>\n",
       "      <td>B</td>\n",
       "      <td>Silver</td>\n",
       "    </tr>\n",
       "    <tr>\n",
       "      <th>4</th>\n",
       "      <td>89397</td>\n",
       "      <td>Female</td>\n",
       "      <td>Urban</td>\n",
       "      <td>High School</td>\n",
       "      <td>2L-5L</td>\n",
       "      <td>0</td>\n",
       "      <td>5</td>\n",
       "      <td>14059</td>\n",
       "      <td>More than 1</td>\n",
       "      <td>B</td>\n",
       "      <td>Silver</td>\n",
       "    </tr>\n",
       "  </tbody>\n",
       "</table>\n",
       "</div>"
      ],
      "text/plain": [
       "      id  gender   area qualification         income  marital_status  vintage  \\\n",
       "0  89393  Female  Rural   High School         5L-10L               0        6   \n",
       "1  89394  Female  Urban   High School          2L-5L               0        4   \n",
       "2  89395    Male  Rural   High School         5L-10L               1        7   \n",
       "3  89396  Female  Rural      Bachelor  More than 10L               1        2   \n",
       "4  89397  Female  Urban   High School          2L-5L               0        5   \n",
       "\n",
       "   claim_amount num_policies policy type_of_policy  \n",
       "0          2134  More than 1      B         Silver  \n",
       "1          4102  More than 1      A       Platinum  \n",
       "2          2925  More than 1      B           Gold  \n",
       "3             0  More than 1      B         Silver  \n",
       "4         14059  More than 1      B         Silver  "
      ]
     },
     "execution_count": 9,
     "metadata": {},
     "output_type": "execute_result"
    }
   ],
   "source": [
    "test_data.head()"
   ]
  },
  {
   "cell_type": "code",
   "execution_count": 10,
   "id": "80a6164c",
   "metadata": {},
   "outputs": [
    {
     "data": {
      "text/html": [
       "<div>\n",
       "<style scoped>\n",
       "    .dataframe tbody tr th:only-of-type {\n",
       "        vertical-align: middle;\n",
       "    }\n",
       "\n",
       "    .dataframe tbody tr th {\n",
       "        vertical-align: top;\n",
       "    }\n",
       "\n",
       "    .dataframe thead th {\n",
       "        text-align: right;\n",
       "    }\n",
       "</style>\n",
       "<table border=\"1\" class=\"dataframe\">\n",
       "  <thead>\n",
       "    <tr style=\"text-align: right;\">\n",
       "      <th></th>\n",
       "      <th>id</th>\n",
       "      <th>gender</th>\n",
       "      <th>area</th>\n",
       "      <th>qualification</th>\n",
       "      <th>income</th>\n",
       "      <th>marital_status</th>\n",
       "      <th>vintage</th>\n",
       "      <th>claim_amount</th>\n",
       "      <th>num_policies</th>\n",
       "      <th>policy</th>\n",
       "      <th>type_of_policy</th>\n",
       "    </tr>\n",
       "  </thead>\n",
       "  <tbody>\n",
       "    <tr>\n",
       "      <th>59590</th>\n",
       "      <td>148983</td>\n",
       "      <td>Male</td>\n",
       "      <td>Rural</td>\n",
       "      <td>Bachelor</td>\n",
       "      <td>5L-10L</td>\n",
       "      <td>1</td>\n",
       "      <td>6</td>\n",
       "      <td>0</td>\n",
       "      <td>1</td>\n",
       "      <td>A</td>\n",
       "      <td>Silver</td>\n",
       "    </tr>\n",
       "    <tr>\n",
       "      <th>59591</th>\n",
       "      <td>148984</td>\n",
       "      <td>Male</td>\n",
       "      <td>Urban</td>\n",
       "      <td>High School</td>\n",
       "      <td>5L-10L</td>\n",
       "      <td>0</td>\n",
       "      <td>6</td>\n",
       "      <td>0</td>\n",
       "      <td>1</td>\n",
       "      <td>C</td>\n",
       "      <td>Gold</td>\n",
       "    </tr>\n",
       "    <tr>\n",
       "      <th>59592</th>\n",
       "      <td>148985</td>\n",
       "      <td>Female</td>\n",
       "      <td>Urban</td>\n",
       "      <td>High School</td>\n",
       "      <td>2L-5L</td>\n",
       "      <td>1</td>\n",
       "      <td>4</td>\n",
       "      <td>3323</td>\n",
       "      <td>More than 1</td>\n",
       "      <td>B</td>\n",
       "      <td>Platinum</td>\n",
       "    </tr>\n",
       "    <tr>\n",
       "      <th>59593</th>\n",
       "      <td>148986</td>\n",
       "      <td>Male</td>\n",
       "      <td>Rural</td>\n",
       "      <td>Bachelor</td>\n",
       "      <td>5L-10L</td>\n",
       "      <td>0</td>\n",
       "      <td>1</td>\n",
       "      <td>2886</td>\n",
       "      <td>More than 1</td>\n",
       "      <td>A</td>\n",
       "      <td>Silver</td>\n",
       "    </tr>\n",
       "    <tr>\n",
       "      <th>59594</th>\n",
       "      <td>148987</td>\n",
       "      <td>Female</td>\n",
       "      <td>Urban</td>\n",
       "      <td>Bachelor</td>\n",
       "      <td>5L-10L</td>\n",
       "      <td>1</td>\n",
       "      <td>4</td>\n",
       "      <td>5939</td>\n",
       "      <td>More than 1</td>\n",
       "      <td>B</td>\n",
       "      <td>Platinum</td>\n",
       "    </tr>\n",
       "  </tbody>\n",
       "</table>\n",
       "</div>"
      ],
      "text/plain": [
       "           id  gender   area qualification  income  marital_status  vintage  \\\n",
       "59590  148983    Male  Rural      Bachelor  5L-10L               1        6   \n",
       "59591  148984    Male  Urban   High School  5L-10L               0        6   \n",
       "59592  148985  Female  Urban   High School   2L-5L               1        4   \n",
       "59593  148986    Male  Rural      Bachelor  5L-10L               0        1   \n",
       "59594  148987  Female  Urban      Bachelor  5L-10L               1        4   \n",
       "\n",
       "       claim_amount num_policies policy type_of_policy  \n",
       "59590             0            1      A         Silver  \n",
       "59591             0            1      C           Gold  \n",
       "59592          3323  More than 1      B       Platinum  \n",
       "59593          2886  More than 1      A         Silver  \n",
       "59594          5939  More than 1      B       Platinum  "
      ]
     },
     "execution_count": 10,
     "metadata": {},
     "output_type": "execute_result"
    }
   ],
   "source": [
    "test_data.tail()"
   ]
  },
  {
   "cell_type": "code",
   "execution_count": 11,
   "id": "4835dcd1",
   "metadata": {},
   "outputs": [
    {
     "name": "stdout",
     "output_type": "stream",
     "text": [
      "<class 'pandas.core.frame.DataFrame'>\n",
      "RangeIndex: 59595 entries, 0 to 59594\n",
      "Data columns (total 11 columns):\n",
      " #   Column          Non-Null Count  Dtype \n",
      "---  ------          --------------  ----- \n",
      " 0   id              59595 non-null  int64 \n",
      " 1   gender          59595 non-null  object\n",
      " 2   area            59595 non-null  object\n",
      " 3   qualification   59595 non-null  object\n",
      " 4   income          59595 non-null  object\n",
      " 5   marital_status  59595 non-null  int64 \n",
      " 6   vintage         59595 non-null  int64 \n",
      " 7   claim_amount    59595 non-null  int64 \n",
      " 8   num_policies    59595 non-null  object\n",
      " 9   policy          59595 non-null  object\n",
      " 10  type_of_policy  59595 non-null  object\n",
      "dtypes: int64(4), object(7)\n",
      "memory usage: 5.0+ MB\n"
     ]
    }
   ],
   "source": [
    "test_data.info()"
   ]
  },
  {
   "cell_type": "code",
   "execution_count": 12,
   "id": "56b19565",
   "metadata": {},
   "outputs": [
    {
     "data": {
      "text/html": [
       "<div>\n",
       "<style scoped>\n",
       "    .dataframe tbody tr th:only-of-type {\n",
       "        vertical-align: middle;\n",
       "    }\n",
       "\n",
       "    .dataframe tbody tr th {\n",
       "        vertical-align: top;\n",
       "    }\n",
       "\n",
       "    .dataframe thead th {\n",
       "        text-align: right;\n",
       "    }\n",
       "</style>\n",
       "<table border=\"1\" class=\"dataframe\">\n",
       "  <thead>\n",
       "    <tr style=\"text-align: right;\">\n",
       "      <th></th>\n",
       "      <th>id</th>\n",
       "      <th>marital_status</th>\n",
       "      <th>vintage</th>\n",
       "      <th>claim_amount</th>\n",
       "      <th>cltv</th>\n",
       "    </tr>\n",
       "  </thead>\n",
       "  <tbody>\n",
       "    <tr>\n",
       "      <th>count</th>\n",
       "      <td>89392.000000</td>\n",
       "      <td>89392.000000</td>\n",
       "      <td>89392.000000</td>\n",
       "      <td>89392.000000</td>\n",
       "      <td>89392.000000</td>\n",
       "    </tr>\n",
       "    <tr>\n",
       "      <th>mean</th>\n",
       "      <td>44696.500000</td>\n",
       "      <td>0.575488</td>\n",
       "      <td>4.595669</td>\n",
       "      <td>4351.502416</td>\n",
       "      <td>97952.828978</td>\n",
       "    </tr>\n",
       "    <tr>\n",
       "      <th>std</th>\n",
       "      <td>25805.391969</td>\n",
       "      <td>0.494272</td>\n",
       "      <td>2.290446</td>\n",
       "      <td>3262.359775</td>\n",
       "      <td>90613.814793</td>\n",
       "    </tr>\n",
       "    <tr>\n",
       "      <th>min</th>\n",
       "      <td>1.000000</td>\n",
       "      <td>0.000000</td>\n",
       "      <td>0.000000</td>\n",
       "      <td>0.000000</td>\n",
       "      <td>24828.000000</td>\n",
       "    </tr>\n",
       "    <tr>\n",
       "      <th>25%</th>\n",
       "      <td>22348.750000</td>\n",
       "      <td>0.000000</td>\n",
       "      <td>3.000000</td>\n",
       "      <td>2406.000000</td>\n",
       "      <td>52836.000000</td>\n",
       "    </tr>\n",
       "    <tr>\n",
       "      <th>50%</th>\n",
       "      <td>44696.500000</td>\n",
       "      <td>1.000000</td>\n",
       "      <td>5.000000</td>\n",
       "      <td>4089.000000</td>\n",
       "      <td>66396.000000</td>\n",
       "    </tr>\n",
       "    <tr>\n",
       "      <th>75%</th>\n",
       "      <td>67044.250000</td>\n",
       "      <td>1.000000</td>\n",
       "      <td>6.000000</td>\n",
       "      <td>6094.000000</td>\n",
       "      <td>103440.000000</td>\n",
       "    </tr>\n",
       "    <tr>\n",
       "      <th>max</th>\n",
       "      <td>89392.000000</td>\n",
       "      <td>1.000000</td>\n",
       "      <td>8.000000</td>\n",
       "      <td>31894.000000</td>\n",
       "      <td>724068.000000</td>\n",
       "    </tr>\n",
       "  </tbody>\n",
       "</table>\n",
       "</div>"
      ],
      "text/plain": [
       "                 id  marital_status       vintage  claim_amount           cltv\n",
       "count  89392.000000    89392.000000  89392.000000  89392.000000   89392.000000\n",
       "mean   44696.500000        0.575488      4.595669   4351.502416   97952.828978\n",
       "std    25805.391969        0.494272      2.290446   3262.359775   90613.814793\n",
       "min        1.000000        0.000000      0.000000      0.000000   24828.000000\n",
       "25%    22348.750000        0.000000      3.000000   2406.000000   52836.000000\n",
       "50%    44696.500000        1.000000      5.000000   4089.000000   66396.000000\n",
       "75%    67044.250000        1.000000      6.000000   6094.000000  103440.000000\n",
       "max    89392.000000        1.000000      8.000000  31894.000000  724068.000000"
      ]
     },
     "execution_count": 12,
     "metadata": {},
     "output_type": "execute_result"
    }
   ],
   "source": [
    "train_data.describe()"
   ]
  },
  {
   "cell_type": "code",
   "execution_count": 13,
   "id": "fe7a5a77",
   "metadata": {},
   "outputs": [
    {
     "data": {
      "text/html": [
       "<div>\n",
       "<style scoped>\n",
       "    .dataframe tbody tr th:only-of-type {\n",
       "        vertical-align: middle;\n",
       "    }\n",
       "\n",
       "    .dataframe tbody tr th {\n",
       "        vertical-align: top;\n",
       "    }\n",
       "\n",
       "    .dataframe thead th {\n",
       "        text-align: right;\n",
       "    }\n",
       "</style>\n",
       "<table border=\"1\" class=\"dataframe\">\n",
       "  <thead>\n",
       "    <tr style=\"text-align: right;\">\n",
       "      <th></th>\n",
       "      <th>id</th>\n",
       "      <th>marital_status</th>\n",
       "      <th>vintage</th>\n",
       "      <th>claim_amount</th>\n",
       "    </tr>\n",
       "  </thead>\n",
       "  <tbody>\n",
       "    <tr>\n",
       "      <th>count</th>\n",
       "      <td>59595.000000</td>\n",
       "      <td>59595.000000</td>\n",
       "      <td>59595.000000</td>\n",
       "      <td>59595.000000</td>\n",
       "    </tr>\n",
       "    <tr>\n",
       "      <th>mean</th>\n",
       "      <td>119190.000000</td>\n",
       "      <td>0.576928</td>\n",
       "      <td>4.620304</td>\n",
       "      <td>4368.504321</td>\n",
       "    </tr>\n",
       "    <tr>\n",
       "      <th>std</th>\n",
       "      <td>17203.738983</td>\n",
       "      <td>0.494051</td>\n",
       "      <td>2.282511</td>\n",
       "      <td>3288.132408</td>\n",
       "    </tr>\n",
       "    <tr>\n",
       "      <th>min</th>\n",
       "      <td>89393.000000</td>\n",
       "      <td>0.000000</td>\n",
       "      <td>0.000000</td>\n",
       "      <td>0.000000</td>\n",
       "    </tr>\n",
       "    <tr>\n",
       "      <th>25%</th>\n",
       "      <td>104291.500000</td>\n",
       "      <td>0.000000</td>\n",
       "      <td>3.000000</td>\n",
       "      <td>2398.000000</td>\n",
       "    </tr>\n",
       "    <tr>\n",
       "      <th>50%</th>\n",
       "      <td>119190.000000</td>\n",
       "      <td>1.000000</td>\n",
       "      <td>5.000000</td>\n",
       "      <td>4106.000000</td>\n",
       "    </tr>\n",
       "    <tr>\n",
       "      <th>75%</th>\n",
       "      <td>134088.500000</td>\n",
       "      <td>1.000000</td>\n",
       "      <td>6.000000</td>\n",
       "      <td>6104.000000</td>\n",
       "    </tr>\n",
       "    <tr>\n",
       "      <th>max</th>\n",
       "      <td>148987.000000</td>\n",
       "      <td>1.000000</td>\n",
       "      <td>8.000000</td>\n",
       "      <td>32534.000000</td>\n",
       "    </tr>\n",
       "  </tbody>\n",
       "</table>\n",
       "</div>"
      ],
      "text/plain": [
       "                  id  marital_status       vintage  claim_amount\n",
       "count   59595.000000    59595.000000  59595.000000  59595.000000\n",
       "mean   119190.000000        0.576928      4.620304   4368.504321\n",
       "std     17203.738983        0.494051      2.282511   3288.132408\n",
       "min     89393.000000        0.000000      0.000000      0.000000\n",
       "25%    104291.500000        0.000000      3.000000   2398.000000\n",
       "50%    119190.000000        1.000000      5.000000   4106.000000\n",
       "75%    134088.500000        1.000000      6.000000   6104.000000\n",
       "max    148987.000000        1.000000      8.000000  32534.000000"
      ]
     },
     "execution_count": 13,
     "metadata": {},
     "output_type": "execute_result"
    }
   ],
   "source": [
    "test_data.describe()"
   ]
  },
  {
   "cell_type": "markdown",
   "id": "ea21f724",
   "metadata": {},
   "source": [
    "### Categorical Features"
   ]
  },
  {
   "cell_type": "code",
   "execution_count": 14,
   "id": "9c780a7a",
   "metadata": {},
   "outputs": [
    {
     "name": "stdout",
     "output_type": "stream",
     "text": [
      "Number of categorical features are 7\n"
     ]
    },
    {
     "data": {
      "text/plain": [
       "['gender',\n",
       " 'area',\n",
       " 'qualification',\n",
       " 'income',\n",
       " 'num_policies',\n",
       " 'policy',\n",
       " 'type_of_policy']"
      ]
     },
     "execution_count": 14,
     "metadata": {},
     "output_type": "execute_result"
    }
   ],
   "source": [
    "# Extracting Categorical Features from the data\n",
    "categorical_features=[feature for feature in train_data.columns if train_data[feature].dtypes == 'O']\n",
    "print('Number of categorical features are {}'.format(len(categorical_features)))\n",
    "categorical_features"
   ]
  },
  {
   "cell_type": "code",
   "execution_count": 15,
   "id": "2f5e19f4",
   "metadata": {},
   "outputs": [
    {
     "data": {
      "text/html": [
       "<div>\n",
       "<style scoped>\n",
       "    .dataframe tbody tr th:only-of-type {\n",
       "        vertical-align: middle;\n",
       "    }\n",
       "\n",
       "    .dataframe tbody tr th {\n",
       "        vertical-align: top;\n",
       "    }\n",
       "\n",
       "    .dataframe thead th {\n",
       "        text-align: right;\n",
       "    }\n",
       "</style>\n",
       "<table border=\"1\" class=\"dataframe\">\n",
       "  <thead>\n",
       "    <tr style=\"text-align: right;\">\n",
       "      <th></th>\n",
       "      <th>gender</th>\n",
       "      <th>area</th>\n",
       "      <th>qualification</th>\n",
       "      <th>income</th>\n",
       "      <th>num_policies</th>\n",
       "      <th>policy</th>\n",
       "      <th>type_of_policy</th>\n",
       "    </tr>\n",
       "  </thead>\n",
       "  <tbody>\n",
       "    <tr>\n",
       "      <th>0</th>\n",
       "      <td>Male</td>\n",
       "      <td>Urban</td>\n",
       "      <td>Bachelor</td>\n",
       "      <td>5L-10L</td>\n",
       "      <td>More than 1</td>\n",
       "      <td>A</td>\n",
       "      <td>Platinum</td>\n",
       "    </tr>\n",
       "    <tr>\n",
       "      <th>1</th>\n",
       "      <td>Male</td>\n",
       "      <td>Rural</td>\n",
       "      <td>High School</td>\n",
       "      <td>5L-10L</td>\n",
       "      <td>More than 1</td>\n",
       "      <td>A</td>\n",
       "      <td>Platinum</td>\n",
       "    </tr>\n",
       "    <tr>\n",
       "      <th>2</th>\n",
       "      <td>Male</td>\n",
       "      <td>Urban</td>\n",
       "      <td>Bachelor</td>\n",
       "      <td>5L-10L</td>\n",
       "      <td>More than 1</td>\n",
       "      <td>A</td>\n",
       "      <td>Platinum</td>\n",
       "    </tr>\n",
       "    <tr>\n",
       "      <th>3</th>\n",
       "      <td>Female</td>\n",
       "      <td>Rural</td>\n",
       "      <td>High School</td>\n",
       "      <td>5L-10L</td>\n",
       "      <td>More than 1</td>\n",
       "      <td>A</td>\n",
       "      <td>Platinum</td>\n",
       "    </tr>\n",
       "    <tr>\n",
       "      <th>4</th>\n",
       "      <td>Male</td>\n",
       "      <td>Urban</td>\n",
       "      <td>High School</td>\n",
       "      <td>More than 10L</td>\n",
       "      <td>More than 1</td>\n",
       "      <td>A</td>\n",
       "      <td>Gold</td>\n",
       "    </tr>\n",
       "  </tbody>\n",
       "</table>\n",
       "</div>"
      ],
      "text/plain": [
       "   gender   area qualification         income num_policies policy  \\\n",
       "0    Male  Urban      Bachelor         5L-10L  More than 1      A   \n",
       "1    Male  Rural   High School         5L-10L  More than 1      A   \n",
       "2    Male  Urban      Bachelor         5L-10L  More than 1      A   \n",
       "3  Female  Rural   High School         5L-10L  More than 1      A   \n",
       "4    Male  Urban   High School  More than 10L  More than 1      A   \n",
       "\n",
       "  type_of_policy  \n",
       "0       Platinum  \n",
       "1       Platinum  \n",
       "2       Platinum  \n",
       "3       Platinum  \n",
       "4           Gold  "
      ]
     },
     "execution_count": 15,
     "metadata": {},
     "output_type": "execute_result"
    }
   ],
   "source": [
    "train_data[categorical_features].head()"
   ]
  },
  {
   "cell_type": "code",
   "execution_count": 16,
   "id": "f164fbfc",
   "metadata": {},
   "outputs": [
    {
     "name": "stdout",
     "output_type": "stream",
     "text": [
      "The feature gender contains 2 number of uniques categories\n",
      "The feature area contains 2 number of uniques categories\n",
      "The feature qualification contains 3 number of uniques categories\n",
      "The feature income contains 4 number of uniques categories\n",
      "The feature num_policies contains 2 number of uniques categories\n",
      "The feature policy contains 3 number of uniques categories\n",
      "The feature type_of_policy contains 3 number of uniques categories\n"
     ]
    }
   ],
   "source": [
    "# Lets print the number of uniques categories for each categorical feature\n",
    "for feature in categorical_features:\n",
    "    print('The feature {} contains {} number of uniques categories'.format(feature,len(train_data[feature].unique())))"
   ]
  },
  {
   "cell_type": "code",
   "execution_count": 17,
   "id": "9932da77",
   "metadata": {},
   "outputs": [
    {
     "data": {
      "image/png": "[encoded data removed]",
      "text/plain": [
       "<Figure size 432x288 with 1 Axes>"
      ]
     },
     "metadata": {
      "needs_background": "light"
     },
     "output_type": "display_data"
    },
    {
     "data": {
      "image/png": "[encoded data removed]",
      "text/plain": [
       "<Figure size 432x288 with 1 Axes>"
      ]
     },
     "metadata": {
      "needs_background": "light"
     },
     "output_type": "display_data"
    },
    {
     "data": {
      "image/png": "[encoded data removed]",
      "text/plain": [
       "<Figure size 432x288 with 1 Axes>"
      ]
     },
     "metadata": {
      "needs_background": "light"
     },
     "output_type": "display_data"
    },
    {
     "data": {
      "image/png": "[encoded data removed]",
      "text/plain": [
       "<Figure size 432x288 with 1 Axes>"
      ]
     },
     "metadata": {
      "needs_background": "light"
     },
     "output_type": "display_data"
    },
    {
     "data": {
      "image/png": "[encoded data removed]",
      "text/plain": [
       "<Figure size 432x288 with 1 Axes>"
      ]
     },
     "metadata": {
      "needs_background": "light"
     },
     "output_type": "display_data"
    },
    {
     "data": {
      "image/png": "[encoded data removed]",
      "text/plain": [
       "<Figure size 432x288 with 1 Axes>"
      ]
     },
     "metadata": {
      "needs_background": "light"
     },
     "output_type": "display_data"
    },
    {
     "data": {
      "image/png": "[encoded data removed]",
      "text/plain": [
       "<Figure size 432x288 with 1 Axes>"
      ]
     },
     "metadata": {
      "needs_background": "light"
     },
     "output_type": "display_data"
    }
   ],
   "source": [
    "# Lets plot the categorical features vs SalePrice to see the relationship between them\n",
    "\n",
    "for feature in categorical_features:\n",
    "    data=train_data.copy()\n",
    "    data.groupby(feature)['cltv'].median().plot.bar(color='lightblue')\n",
    "    plt.xlabel(feature)\n",
    "    plt.ylabel(\"CLTV\")\n",
    "    plt.title(feature)\n",
    "    plt.show()"
   ]
  },
  {
   "cell_type": "markdown",
   "id": "6ae56805",
   "metadata": {},
   "source": [
    "We have to convert the categorical variables into numerical with the help of one-hot-encoding."
   ]
  },
  {
   "cell_type": "markdown",
   "id": "c36ced58",
   "metadata": {},
   "source": [
    "### Numerical Discrete Features "
   ]
  },
  {
   "cell_type": "code",
   "execution_count": 18,
   "id": "d7d0adf0",
   "metadata": {},
   "outputs": [
    {
     "name": "stdout",
     "output_type": "stream",
     "text": [
      "Number of numerical features are:  5\n"
     ]
    },
    {
     "data": {
      "text/plain": [
       "['id', 'marital_status', 'vintage', 'claim_amount', 'cltv']"
      ]
     },
     "execution_count": 18,
     "metadata": {},
     "output_type": "execute_result"
    }
   ],
   "source": [
    "# Extracting the numerical features from the data\n",
    "numerical_features = [feature for feature in train_data.columns if train_data[feature].dtypes != 'O']\n",
    "\n",
    "print(\"Number of numerical features are: \",len(numerical_features))\n",
    "numerical_features"
   ]
  },
  {
   "cell_type": "code",
   "execution_count": 19,
   "id": "868f310c",
   "metadata": {},
   "outputs": [
    {
     "data": {
      "text/html": [
       "<div>\n",
       "<style scoped>\n",
       "    .dataframe tbody tr th:only-of-type {\n",
       "        vertical-align: middle;\n",
       "    }\n",
       "\n",
       "    .dataframe tbody tr th {\n",
       "        vertical-align: top;\n",
       "    }\n",
       "\n",
       "    .dataframe thead th {\n",
       "        text-align: right;\n",
       "    }\n",
       "</style>\n",
       "<table border=\"1\" class=\"dataframe\">\n",
       "  <thead>\n",
       "    <tr style=\"text-align: right;\">\n",
       "      <th></th>\n",
       "      <th>id</th>\n",
       "      <th>marital_status</th>\n",
       "      <th>vintage</th>\n",
       "      <th>claim_amount</th>\n",
       "      <th>cltv</th>\n",
       "    </tr>\n",
       "  </thead>\n",
       "  <tbody>\n",
       "    <tr>\n",
       "      <th>0</th>\n",
       "      <td>1</td>\n",
       "      <td>1</td>\n",
       "      <td>5</td>\n",
       "      <td>5790</td>\n",
       "      <td>64308</td>\n",
       "    </tr>\n",
       "    <tr>\n",
       "      <th>1</th>\n",
       "      <td>2</td>\n",
       "      <td>0</td>\n",
       "      <td>8</td>\n",
       "      <td>5080</td>\n",
       "      <td>515400</td>\n",
       "    </tr>\n",
       "    <tr>\n",
       "      <th>2</th>\n",
       "      <td>3</td>\n",
       "      <td>1</td>\n",
       "      <td>8</td>\n",
       "      <td>2599</td>\n",
       "      <td>64212</td>\n",
       "    </tr>\n",
       "    <tr>\n",
       "      <th>3</th>\n",
       "      <td>4</td>\n",
       "      <td>0</td>\n",
       "      <td>7</td>\n",
       "      <td>0</td>\n",
       "      <td>97920</td>\n",
       "    </tr>\n",
       "    <tr>\n",
       "      <th>4</th>\n",
       "      <td>5</td>\n",
       "      <td>1</td>\n",
       "      <td>6</td>\n",
       "      <td>3508</td>\n",
       "      <td>59736</td>\n",
       "    </tr>\n",
       "  </tbody>\n",
       "</table>\n",
       "</div>"
      ],
      "text/plain": [
       "   id  marital_status  vintage  claim_amount    cltv\n",
       "0   1               1        5          5790   64308\n",
       "1   2               0        8          5080  515400\n",
       "2   3               1        8          2599   64212\n",
       "3   4               0        7             0   97920\n",
       "4   5               1        6          3508   59736"
      ]
     },
     "execution_count": 19,
     "metadata": {},
     "output_type": "execute_result"
    }
   ],
   "source": [
    "train_data[numerical_features].head()"
   ]
  },
  {
   "cell_type": "code",
   "execution_count": 20,
   "id": "2da45fd1",
   "metadata": {},
   "outputs": [
    {
     "name": "stdout",
     "output_type": "stream",
     "text": [
      "Discrete Variables Count: 2\n"
     ]
    },
    {
     "data": {
      "text/plain": [
       "['marital_status', 'vintage']"
      ]
     },
     "execution_count": 20,
     "metadata": {},
     "output_type": "execute_result"
    }
   ],
   "source": [
    "# Extracting discrete data from the numerical data based on the condition that length of unique should be <= 25\n",
    "\n",
    "discrete_feature = [feature for feature in numerical_features if len(train_data[feature].unique())<25 and not feature=='id']\n",
    "print(\"Discrete Variables Count: {}\".format(len(discrete_feature)))\n",
    "discrete_feature"
   ]
  },
  {
   "cell_type": "code",
   "execution_count": 21,
   "id": "154f3eb0",
   "metadata": {},
   "outputs": [
    {
     "data": {
      "text/html": [
       "<div>\n",
       "<style scoped>\n",
       "    .dataframe tbody tr th:only-of-type {\n",
       "        vertical-align: middle;\n",
       "    }\n",
       "\n",
       "    .dataframe tbody tr th {\n",
       "        vertical-align: top;\n",
       "    }\n",
       "\n",
       "    .dataframe thead th {\n",
       "        text-align: right;\n",
       "    }\n",
       "</style>\n",
       "<table border=\"1\" class=\"dataframe\">\n",
       "  <thead>\n",
       "    <tr style=\"text-align: right;\">\n",
       "      <th></th>\n",
       "      <th>marital_status</th>\n",
       "      <th>vintage</th>\n",
       "    </tr>\n",
       "  </thead>\n",
       "  <tbody>\n",
       "    <tr>\n",
       "      <th>0</th>\n",
       "      <td>1</td>\n",
       "      <td>5</td>\n",
       "    </tr>\n",
       "    <tr>\n",
       "      <th>1</th>\n",
       "      <td>0</td>\n",
       "      <td>8</td>\n",
       "    </tr>\n",
       "    <tr>\n",
       "      <th>2</th>\n",
       "      <td>1</td>\n",
       "      <td>8</td>\n",
       "    </tr>\n",
       "    <tr>\n",
       "      <th>3</th>\n",
       "      <td>0</td>\n",
       "      <td>7</td>\n",
       "    </tr>\n",
       "    <tr>\n",
       "      <th>4</th>\n",
       "      <td>1</td>\n",
       "      <td>6</td>\n",
       "    </tr>\n",
       "  </tbody>\n",
       "</table>\n",
       "</div>"
      ],
      "text/plain": [
       "   marital_status  vintage\n",
       "0               1        5\n",
       "1               0        8\n",
       "2               1        8\n",
       "3               0        7\n",
       "4               1        6"
      ]
     },
     "execution_count": 21,
     "metadata": {},
     "output_type": "execute_result"
    }
   ],
   "source": [
    "train_data[discrete_feature].head()"
   ]
  },
  {
   "cell_type": "code",
   "execution_count": 22,
   "id": "454e43af",
   "metadata": {},
   "outputs": [
    {
     "data": {
      "image/png": "[encoded data removed]",
      "text/plain": [
       "<Figure size 432x288 with 1 Axes>"
      ]
     },
     "metadata": {
      "needs_background": "light"
     },
     "output_type": "display_data"
    },
    {
     "data": {
      "image/png": "[encoded data removed]",
      "text/plain": [
       "<Figure size 432x288 with 1 Axes>"
      ]
     },
     "metadata": {
      "needs_background": "light"
     },
     "output_type": "display_data"
    }
   ],
   "source": [
    "# Lets find the relationship between the discrete features and the sale price\n",
    "\n",
    "for feature in discrete_feature:\n",
    "    data = train_data.copy()\n",
    "    data.groupby(feature)['cltv'].median().plot.bar(color='lightgreen')\n",
    "    plt.xlabel(feature)\n",
    "    plt.ylabel(\"CLTV\")\n",
    "    plt.show()"
   ]
  },
  {
   "cell_type": "markdown",
   "id": "61b9ac61",
   "metadata": {},
   "source": [
    "### Numerical Continuous Features"
   ]
  },
  {
   "cell_type": "code",
   "execution_count": 23,
   "id": "41cd6974",
   "metadata": {},
   "outputs": [
    {
     "name": "stdout",
     "output_type": "stream",
     "text": [
      "Continuos Variables Count: 1\n"
     ]
    },
    {
     "data": {
      "text/plain": [
       "['claim_amount']"
      ]
     },
     "execution_count": 23,
     "metadata": {},
     "output_type": "execute_result"
    }
   ],
   "source": [
    "# Extracting continuos numerical data based on their datatype\n",
    "continuos_feature = [feature for feature in numerical_features if feature not in discrete_feature and feature!='id'\n",
    "                    and feature!='cltv']\n",
    "print(\"Continuos Variables Count: {}\".format(len(continuos_feature)))\n",
    "continuos_feature"
   ]
  },
  {
   "cell_type": "code",
   "execution_count": 24,
   "id": "8f30b632",
   "metadata": {},
   "outputs": [
    {
     "data": {
      "image/png": "[encoded data removed]",
      "text/plain": [
       "<Figure size 432x288 with 1 Axes>"
      ]
     },
     "metadata": {
      "needs_background": "light"
     },
     "output_type": "display_data"
    }
   ],
   "source": [
    "# Lets analyse the continuous values by creating histograms to understand the distribution\n",
    "\n",
    "for feature in continuos_feature:\n",
    "    data=train_data.copy()\n",
    "    data[feature].hist(bins=25,color='yellow')\n",
    "    plt.xlabel(feature)\n",
    "    plt.ylabel(\"Count\")\n",
    "    plt.title(feature)\n",
    "    plt.show()"
   ]
  },
  {
   "cell_type": "markdown",
   "id": "85822a0c",
   "metadata": {},
   "source": [
    "As we can see that the 'claim_amount' feature is right skewed, we have to make some transformations to convert it to normal distribution."
   ]
  },
  {
   "cell_type": "markdown",
   "id": "cc04c666",
   "metadata": {},
   "source": [
    "### Outliers"
   ]
  },
  {
   "cell_type": "code",
   "execution_count": 25,
   "id": "d2529d4b",
   "metadata": {},
   "outputs": [
    {
     "data": {
      "image/png": "[encoded data removed]",
      "text/plain": [
       "<Figure size 432x288 with 1 Axes>"
      ]
     },
     "metadata": {
      "needs_background": "light"
     },
     "output_type": "display_data"
    }
   ],
   "source": [
    "# Plotting a box plot to detect any outiers present in the data\n",
    "for feature in continuos_feature:\n",
    "    data=train_data.copy()\n",
    "    #data[feature]=np.log(data[feature])\n",
    "    \n",
    "    data.boxplot(column=feature)\n",
    "    plt.ylabel(feature)\n",
    "    plt.show()"
   ]
  },
  {
   "cell_type": "markdown",
   "id": "824e733f",
   "metadata": {},
   "source": [
    "There is a huge amount of outliers present in the data, which contributes largely to the data. So, it won't be wise to remove the outliers so we will keep them as it is."
   ]
  },
  {
   "cell_type": "markdown",
   "id": "3778cb98",
   "metadata": {},
   "source": [
    "# Data Preprocessing / Feature Engineering"
   ]
  },
  {
   "cell_type": "code",
   "execution_count": 26,
   "id": "f16eb3ef",
   "metadata": {},
   "outputs": [],
   "source": [
    "# Splitting the features and target variable\n",
    "y_train = train_data.iloc[:,-1]\n",
    "x_train = train_data.iloc[:,:-1]\n",
    "x_test = test_data"
   ]
  },
  {
   "cell_type": "code",
   "execution_count": 27,
   "id": "090e6319",
   "metadata": {},
   "outputs": [
    {
     "data": {
      "text/plain": [
       "(89392, 11)"
      ]
     },
     "execution_count": 27,
     "metadata": {},
     "output_type": "execute_result"
    }
   ],
   "source": [
    "x_train.shape"
   ]
  },
  {
   "cell_type": "code",
   "execution_count": 28,
   "id": "9903d744",
   "metadata": {},
   "outputs": [
    {
     "data": {
      "text/plain": [
       "(89392,)"
      ]
     },
     "execution_count": 28,
     "metadata": {},
     "output_type": "execute_result"
    }
   ],
   "source": [
    "y_train.shape"
   ]
  },
  {
   "cell_type": "code",
   "execution_count": 29,
   "id": "9aced890",
   "metadata": {},
   "outputs": [
    {
     "data": {
      "text/plain": [
       "(59595, 11)"
      ]
     },
     "execution_count": 29,
     "metadata": {},
     "output_type": "execute_result"
    }
   ],
   "source": [
    "x_test.shape"
   ]
  },
  {
   "cell_type": "code",
   "execution_count": 30,
   "id": "281a13d7",
   "metadata": {},
   "outputs": [
    {
     "data": {
      "text/plain": [
       "0         64308\n",
       "1        515400\n",
       "2         64212\n",
       "3         97920\n",
       "4         59736\n",
       "          ...  \n",
       "89387     95736\n",
       "89388     67596\n",
       "89389    114120\n",
       "89390     71772\n",
       "89391    108144\n",
       "Name: cltv, Length: 89392, dtype: int64"
      ]
     },
     "execution_count": 30,
     "metadata": {},
     "output_type": "execute_result"
    }
   ],
   "source": [
    "y_train"
   ]
  },
  {
   "cell_type": "code",
   "execution_count": 31,
   "id": "d4fb3181",
   "metadata": {},
   "outputs": [
    {
     "data": {
      "text/html": [
       "<div>\n",
       "<style scoped>\n",
       "    .dataframe tbody tr th:only-of-type {\n",
       "        vertical-align: middle;\n",
       "    }\n",
       "\n",
       "    .dataframe tbody tr th {\n",
       "        vertical-align: top;\n",
       "    }\n",
       "\n",
       "    .dataframe thead th {\n",
       "        text-align: right;\n",
       "    }\n",
       "</style>\n",
       "<table border=\"1\" class=\"dataframe\">\n",
       "  <thead>\n",
       "    <tr style=\"text-align: right;\">\n",
       "      <th></th>\n",
       "      <th>id</th>\n",
       "      <th>gender</th>\n",
       "      <th>area</th>\n",
       "      <th>qualification</th>\n",
       "      <th>income</th>\n",
       "      <th>marital_status</th>\n",
       "      <th>vintage</th>\n",
       "      <th>claim_amount</th>\n",
       "      <th>num_policies</th>\n",
       "      <th>policy</th>\n",
       "      <th>type_of_policy</th>\n",
       "    </tr>\n",
       "  </thead>\n",
       "  <tbody>\n",
       "    <tr>\n",
       "      <th>0</th>\n",
       "      <td>1</td>\n",
       "      <td>Male</td>\n",
       "      <td>Urban</td>\n",
       "      <td>Bachelor</td>\n",
       "      <td>5L-10L</td>\n",
       "      <td>1</td>\n",
       "      <td>5</td>\n",
       "      <td>5790</td>\n",
       "      <td>More than 1</td>\n",
       "      <td>A</td>\n",
       "      <td>Platinum</td>\n",
       "    </tr>\n",
       "    <tr>\n",
       "      <th>1</th>\n",
       "      <td>2</td>\n",
       "      <td>Male</td>\n",
       "      <td>Rural</td>\n",
       "      <td>High School</td>\n",
       "      <td>5L-10L</td>\n",
       "      <td>0</td>\n",
       "      <td>8</td>\n",
       "      <td>5080</td>\n",
       "      <td>More than 1</td>\n",
       "      <td>A</td>\n",
       "      <td>Platinum</td>\n",
       "    </tr>\n",
       "    <tr>\n",
       "      <th>2</th>\n",
       "      <td>3</td>\n",
       "      <td>Male</td>\n",
       "      <td>Urban</td>\n",
       "      <td>Bachelor</td>\n",
       "      <td>5L-10L</td>\n",
       "      <td>1</td>\n",
       "      <td>8</td>\n",
       "      <td>2599</td>\n",
       "      <td>More than 1</td>\n",
       "      <td>A</td>\n",
       "      <td>Platinum</td>\n",
       "    </tr>\n",
       "    <tr>\n",
       "      <th>3</th>\n",
       "      <td>4</td>\n",
       "      <td>Female</td>\n",
       "      <td>Rural</td>\n",
       "      <td>High School</td>\n",
       "      <td>5L-10L</td>\n",
       "      <td>0</td>\n",
       "      <td>7</td>\n",
       "      <td>0</td>\n",
       "      <td>More than 1</td>\n",
       "      <td>A</td>\n",
       "      <td>Platinum</td>\n",
       "    </tr>\n",
       "    <tr>\n",
       "      <th>4</th>\n",
       "      <td>5</td>\n",
       "      <td>Male</td>\n",
       "      <td>Urban</td>\n",
       "      <td>High School</td>\n",
       "      <td>More than 10L</td>\n",
       "      <td>1</td>\n",
       "      <td>6</td>\n",
       "      <td>3508</td>\n",
       "      <td>More than 1</td>\n",
       "      <td>A</td>\n",
       "      <td>Gold</td>\n",
       "    </tr>\n",
       "    <tr>\n",
       "      <th>...</th>\n",
       "      <td>...</td>\n",
       "      <td>...</td>\n",
       "      <td>...</td>\n",
       "      <td>...</td>\n",
       "      <td>...</td>\n",
       "      <td>...</td>\n",
       "      <td>...</td>\n",
       "      <td>...</td>\n",
       "      <td>...</td>\n",
       "      <td>...</td>\n",
       "      <td>...</td>\n",
       "    </tr>\n",
       "    <tr>\n",
       "      <th>148982</th>\n",
       "      <td>148983</td>\n",
       "      <td>Male</td>\n",
       "      <td>Rural</td>\n",
       "      <td>Bachelor</td>\n",
       "      <td>5L-10L</td>\n",
       "      <td>1</td>\n",
       "      <td>6</td>\n",
       "      <td>0</td>\n",
       "      <td>1</td>\n",
       "      <td>A</td>\n",
       "      <td>Silver</td>\n",
       "    </tr>\n",
       "    <tr>\n",
       "      <th>148983</th>\n",
       "      <td>148984</td>\n",
       "      <td>Male</td>\n",
       "      <td>Urban</td>\n",
       "      <td>High School</td>\n",
       "      <td>5L-10L</td>\n",
       "      <td>0</td>\n",
       "      <td>6</td>\n",
       "      <td>0</td>\n",
       "      <td>1</td>\n",
       "      <td>C</td>\n",
       "      <td>Gold</td>\n",
       "    </tr>\n",
       "    <tr>\n",
       "      <th>148984</th>\n",
       "      <td>148985</td>\n",
       "      <td>Female</td>\n",
       "      <td>Urban</td>\n",
       "      <td>High School</td>\n",
       "      <td>2L-5L</td>\n",
       "      <td>1</td>\n",
       "      <td>4</td>\n",
       "      <td>3323</td>\n",
       "      <td>More than 1</td>\n",
       "      <td>B</td>\n",
       "      <td>Platinum</td>\n",
       "    </tr>\n",
       "    <tr>\n",
       "      <th>148985</th>\n",
       "      <td>148986</td>\n",
       "      <td>Male</td>\n",
       "      <td>Rural</td>\n",
       "      <td>Bachelor</td>\n",
       "      <td>5L-10L</td>\n",
       "      <td>0</td>\n",
       "      <td>1</td>\n",
       "      <td>2886</td>\n",
       "      <td>More than 1</td>\n",
       "      <td>A</td>\n",
       "      <td>Silver</td>\n",
       "    </tr>\n",
       "    <tr>\n",
       "      <th>148986</th>\n",
       "      <td>148987</td>\n",
       "      <td>Female</td>\n",
       "      <td>Urban</td>\n",
       "      <td>Bachelor</td>\n",
       "      <td>5L-10L</td>\n",
       "      <td>1</td>\n",
       "      <td>4</td>\n",
       "      <td>5939</td>\n",
       "      <td>More than 1</td>\n",
       "      <td>B</td>\n",
       "      <td>Platinum</td>\n",
       "    </tr>\n",
       "  </tbody>\n",
       "</table>\n",
       "<p>148987 rows × 11 columns</p>\n",
       "</div>"
      ],
      "text/plain": [
       "            id  gender   area qualification         income  marital_status  \\\n",
       "0            1    Male  Urban      Bachelor         5L-10L               1   \n",
       "1            2    Male  Rural   High School         5L-10L               0   \n",
       "2            3    Male  Urban      Bachelor         5L-10L               1   \n",
       "3            4  Female  Rural   High School         5L-10L               0   \n",
       "4            5    Male  Urban   High School  More than 10L               1   \n",
       "...        ...     ...    ...           ...            ...             ...   \n",
       "148982  148983    Male  Rural      Bachelor         5L-10L               1   \n",
       "148983  148984    Male  Urban   High School         5L-10L               0   \n",
       "148984  148985  Female  Urban   High School          2L-5L               1   \n",
       "148985  148986    Male  Rural      Bachelor         5L-10L               0   \n",
       "148986  148987  Female  Urban      Bachelor         5L-10L               1   \n",
       "\n",
       "        vintage  claim_amount num_policies policy type_of_policy  \n",
       "0             5          5790  More than 1      A       Platinum  \n",
       "1             8          5080  More than 1      A       Platinum  \n",
       "2             8          2599  More than 1      A       Platinum  \n",
       "3             7             0  More than 1      A       Platinum  \n",
       "4             6          3508  More than 1      A           Gold  \n",
       "...         ...           ...          ...    ...            ...  \n",
       "148982        6             0            1      A         Silver  \n",
       "148983        6             0            1      C           Gold  \n",
       "148984        4          3323  More than 1      B       Platinum  \n",
       "148985        1          2886  More than 1      A         Silver  \n",
       "148986        4          5939  More than 1      B       Platinum  \n",
       "\n",
       "[148987 rows x 11 columns]"
      ]
     },
     "execution_count": 31,
     "metadata": {},
     "output_type": "execute_result"
    }
   ],
   "source": [
    "# Combining both train and test data to perform preprocessing of the data\n",
    "df = pd.concat([x_train,x_test],axis=0).reset_index(drop=True)\n",
    "df"
   ]
  },
  {
   "cell_type": "code",
   "execution_count": 32,
   "id": "86506b20",
   "metadata": {},
   "outputs": [
    {
     "name": "stdout",
     "output_type": "stream",
     "text": [
      "gender ['Male' 'Female']\n",
      "========================================\n",
      "area ['Urban' 'Rural']\n",
      "========================================\n",
      "qualification ['Bachelor' 'High School' 'Others']\n",
      "========================================\n",
      "income ['5L-10L' 'More than 10L' '2L-5L' '<=2L']\n",
      "========================================\n",
      "marital_status [1 0]\n",
      "========================================\n",
      "vintage [5 8 7 6 1 0 3 4 2]\n",
      "========================================\n",
      "num_policies ['More than 1' '1']\n",
      "========================================\n",
      "policy ['A' 'C' 'B']\n",
      "========================================\n",
      "type_of_policy ['Platinum' 'Gold' 'Silver']\n",
      "========================================\n"
     ]
    }
   ],
   "source": [
    "# Checking the number of unique values in each category\n",
    "\n",
    "for feature in ['gender','area','qualification','income','marital_status','vintage','num_policies','policy','type_of_policy']:\n",
    "    print(feature,df[feature].unique())\n",
    "    print(\"========================================\")"
   ]
  },
  {
   "cell_type": "markdown",
   "id": "f15421b2",
   "metadata": {},
   "source": [
    "* The data contains 7 categorical features such as 'gender', 'area', 'qualification', 'income', 'num_policies', 'policy', 'type_of_policy' which we will be converting to numerical features using one-hot-encoding.\n",
    "* The data consist 2 numerical discrete features such as 'marital_status' and 'vintage'.\n",
    "* The data consist 1 numerical continuous features is 'claim_amount'"
   ]
  },
  {
   "cell_type": "code",
   "execution_count": 33,
   "id": "af8f1f90",
   "metadata": {},
   "outputs": [
    {
     "data": {
      "text/plain": [
       "id                0\n",
       "gender            0\n",
       "area              0\n",
       "qualification     0\n",
       "income            0\n",
       "marital_status    0\n",
       "vintage           0\n",
       "claim_amount      0\n",
       "num_policies      0\n",
       "policy            0\n",
       "type_of_policy    0\n",
       "dtype: int64"
      ]
     },
     "execution_count": 33,
     "metadata": {},
     "output_type": "execute_result"
    }
   ],
   "source": [
    "# Checking for null values\n",
    "df.isna().sum()"
   ]
  },
  {
   "cell_type": "markdown",
   "id": "2e194107",
   "metadata": {},
   "source": [
    "The data does not contain any null values."
   ]
  },
  {
   "cell_type": "code",
   "execution_count": 34,
   "id": "c5eddffa",
   "metadata": {},
   "outputs": [
    {
     "data": {
      "text/plain": [
       "<AxesSubplot:>"
      ]
     },
     "execution_count": 34,
     "metadata": {},
     "output_type": "execute_result"
    },
    {
     "data": {
      "image/png": "[encoded data removed]",
      "text/plain": [
       "<Figure size 432x288 with 2 Axes>"
      ]
     },
     "metadata": {
      "needs_background": "light"
     },
     "output_type": "display_data"
    }
   ],
   "source": [
    "# Visualization for null values\n",
    "sns.heatmap(df.isna(),cmap='winter_r')"
   ]
  },
  {
   "cell_type": "code",
   "execution_count": 35,
   "id": "4b7e8610",
   "metadata": {},
   "outputs": [],
   "source": [
    "# Performing label encoding\n",
    "\n",
    "from sklearn.preprocessing import LabelEncoder\n",
    "label_encoder=LabelEncoder()\n",
    "\n",
    "for feature in categorical_features:\n",
    "    df[feature]=label_encoder.fit_transform(df[feature])"
   ]
  },
  {
   "cell_type": "code",
   "execution_count": 36,
   "id": "48997fd2",
   "metadata": {},
   "outputs": [
    {
     "data": {
      "text/html": [
       "<div>\n",
       "<style scoped>\n",
       "    .dataframe tbody tr th:only-of-type {\n",
       "        vertical-align: middle;\n",
       "    }\n",
       "\n",
       "    .dataframe tbody tr th {\n",
       "        vertical-align: top;\n",
       "    }\n",
       "\n",
       "    .dataframe thead th {\n",
       "        text-align: right;\n",
       "    }\n",
       "</style>\n",
       "<table border=\"1\" class=\"dataframe\">\n",
       "  <thead>\n",
       "    <tr style=\"text-align: right;\">\n",
       "      <th></th>\n",
       "      <th>id</th>\n",
       "      <th>gender</th>\n",
       "      <th>area</th>\n",
       "      <th>qualification</th>\n",
       "      <th>income</th>\n",
       "      <th>marital_status</th>\n",
       "      <th>vintage</th>\n",
       "      <th>claim_amount</th>\n",
       "      <th>num_policies</th>\n",
       "      <th>policy</th>\n",
       "      <th>type_of_policy</th>\n",
       "    </tr>\n",
       "  </thead>\n",
       "  <tbody>\n",
       "    <tr>\n",
       "      <th>0</th>\n",
       "      <td>1</td>\n",
       "      <td>1</td>\n",
       "      <td>1</td>\n",
       "      <td>0</td>\n",
       "      <td>1</td>\n",
       "      <td>1</td>\n",
       "      <td>5</td>\n",
       "      <td>5790</td>\n",
       "      <td>1</td>\n",
       "      <td>0</td>\n",
       "      <td>1</td>\n",
       "    </tr>\n",
       "    <tr>\n",
       "      <th>1</th>\n",
       "      <td>2</td>\n",
       "      <td>1</td>\n",
       "      <td>0</td>\n",
       "      <td>1</td>\n",
       "      <td>1</td>\n",
       "      <td>0</td>\n",
       "      <td>8</td>\n",
       "      <td>5080</td>\n",
       "      <td>1</td>\n",
       "      <td>0</td>\n",
       "      <td>1</td>\n",
       "    </tr>\n",
       "    <tr>\n",
       "      <th>2</th>\n",
       "      <td>3</td>\n",
       "      <td>1</td>\n",
       "      <td>1</td>\n",
       "      <td>0</td>\n",
       "      <td>1</td>\n",
       "      <td>1</td>\n",
       "      <td>8</td>\n",
       "      <td>2599</td>\n",
       "      <td>1</td>\n",
       "      <td>0</td>\n",
       "      <td>1</td>\n",
       "    </tr>\n",
       "    <tr>\n",
       "      <th>3</th>\n",
       "      <td>4</td>\n",
       "      <td>0</td>\n",
       "      <td>0</td>\n",
       "      <td>1</td>\n",
       "      <td>1</td>\n",
       "      <td>0</td>\n",
       "      <td>7</td>\n",
       "      <td>0</td>\n",
       "      <td>1</td>\n",
       "      <td>0</td>\n",
       "      <td>1</td>\n",
       "    </tr>\n",
       "    <tr>\n",
       "      <th>4</th>\n",
       "      <td>5</td>\n",
       "      <td>1</td>\n",
       "      <td>1</td>\n",
       "      <td>1</td>\n",
       "      <td>3</td>\n",
       "      <td>1</td>\n",
       "      <td>6</td>\n",
       "      <td>3508</td>\n",
       "      <td>1</td>\n",
       "      <td>0</td>\n",
       "      <td>0</td>\n",
       "    </tr>\n",
       "    <tr>\n",
       "      <th>...</th>\n",
       "      <td>...</td>\n",
       "      <td>...</td>\n",
       "      <td>...</td>\n",
       "      <td>...</td>\n",
       "      <td>...</td>\n",
       "      <td>...</td>\n",
       "      <td>...</td>\n",
       "      <td>...</td>\n",
       "      <td>...</td>\n",
       "      <td>...</td>\n",
       "      <td>...</td>\n",
       "    </tr>\n",
       "    <tr>\n",
       "      <th>148982</th>\n",
       "      <td>148983</td>\n",
       "      <td>1</td>\n",
       "      <td>0</td>\n",
       "      <td>0</td>\n",
       "      <td>1</td>\n",
       "      <td>1</td>\n",
       "      <td>6</td>\n",
       "      <td>0</td>\n",
       "      <td>0</td>\n",
       "      <td>0</td>\n",
       "      <td>2</td>\n",
       "    </tr>\n",
       "    <tr>\n",
       "      <th>148983</th>\n",
       "      <td>148984</td>\n",
       "      <td>1</td>\n",
       "      <td>1</td>\n",
       "      <td>1</td>\n",
       "      <td>1</td>\n",
       "      <td>0</td>\n",
       "      <td>6</td>\n",
       "      <td>0</td>\n",
       "      <td>0</td>\n",
       "      <td>2</td>\n",
       "      <td>0</td>\n",
       "    </tr>\n",
       "    <tr>\n",
       "      <th>148984</th>\n",
       "      <td>148985</td>\n",
       "      <td>0</td>\n",
       "      <td>1</td>\n",
       "      <td>1</td>\n",
       "      <td>0</td>\n",
       "      <td>1</td>\n",
       "      <td>4</td>\n",
       "      <td>3323</td>\n",
       "      <td>1</td>\n",
       "      <td>1</td>\n",
       "      <td>1</td>\n",
       "    </tr>\n",
       "    <tr>\n",
       "      <th>148985</th>\n",
       "      <td>148986</td>\n",
       "      <td>1</td>\n",
       "      <td>0</td>\n",
       "      <td>0</td>\n",
       "      <td>1</td>\n",
       "      <td>0</td>\n",
       "      <td>1</td>\n",
       "      <td>2886</td>\n",
       "      <td>1</td>\n",
       "      <td>0</td>\n",
       "      <td>2</td>\n",
       "    </tr>\n",
       "    <tr>\n",
       "      <th>148986</th>\n",
       "      <td>148987</td>\n",
       "      <td>0</td>\n",
       "      <td>1</td>\n",
       "      <td>0</td>\n",
       "      <td>1</td>\n",
       "      <td>1</td>\n",
       "      <td>4</td>\n",
       "      <td>5939</td>\n",
       "      <td>1</td>\n",
       "      <td>1</td>\n",
       "      <td>1</td>\n",
       "    </tr>\n",
       "  </tbody>\n",
       "</table>\n",
       "<p>148987 rows × 11 columns</p>\n",
       "</div>"
      ],
      "text/plain": [
       "            id  gender  area  qualification  income  marital_status  vintage  \\\n",
       "0            1       1     1              0       1               1        5   \n",
       "1            2       1     0              1       1               0        8   \n",
       "2            3       1     1              0       1               1        8   \n",
       "3            4       0     0              1       1               0        7   \n",
       "4            5       1     1              1       3               1        6   \n",
       "...        ...     ...   ...            ...     ...             ...      ...   \n",
       "148982  148983       1     0              0       1               1        6   \n",
       "148983  148984       1     1              1       1               0        6   \n",
       "148984  148985       0     1              1       0               1        4   \n",
       "148985  148986       1     0              0       1               0        1   \n",
       "148986  148987       0     1              0       1               1        4   \n",
       "\n",
       "        claim_amount  num_policies  policy  type_of_policy  \n",
       "0               5790             1       0               1  \n",
       "1               5080             1       0               1  \n",
       "2               2599             1       0               1  \n",
       "3                  0             1       0               1  \n",
       "4               3508             1       0               0  \n",
       "...              ...           ...     ...             ...  \n",
       "148982             0             0       0               2  \n",
       "148983             0             0       2               0  \n",
       "148984          3323             1       1               1  \n",
       "148985          2886             1       0               2  \n",
       "148986          5939             1       1               1  \n",
       "\n",
       "[148987 rows x 11 columns]"
      ]
     },
     "execution_count": 36,
     "metadata": {},
     "output_type": "execute_result"
    }
   ],
   "source": [
    "df"
   ]
  },
  {
   "cell_type": "code",
   "execution_count": 37,
   "id": "44fa421e",
   "metadata": {},
   "outputs": [],
   "source": [
    "# Dropping the id column since it is not needed for the time being\n",
    "df.drop(columns='id',inplace=True)"
   ]
  },
  {
   "cell_type": "code",
   "execution_count": 38,
   "id": "2f36ab5c",
   "metadata": {},
   "outputs": [],
   "source": [
    "# Scaling/Normalizing the data\n",
    "from sklearn.preprocessing import MinMaxScaler\n",
    "\n",
    "scaler = MinMaxScaler()\n",
    "df = pd.DataFrame(scaler.fit_transform(df),columns=df.columns)"
   ]
  },
  {
   "cell_type": "code",
   "execution_count": 39,
   "id": "0ba7ecfd",
   "metadata": {},
   "outputs": [
    {
     "data": {
      "text/html": [
       "<div>\n",
       "<style scoped>\n",
       "    .dataframe tbody tr th:only-of-type {\n",
       "        vertical-align: middle;\n",
       "    }\n",
       "\n",
       "    .dataframe tbody tr th {\n",
       "        vertical-align: top;\n",
       "    }\n",
       "\n",
       "    .dataframe thead th {\n",
       "        text-align: right;\n",
       "    }\n",
       "</style>\n",
       "<table border=\"1\" class=\"dataframe\">\n",
       "  <thead>\n",
       "    <tr style=\"text-align: right;\">\n",
       "      <th></th>\n",
       "      <th>gender</th>\n",
       "      <th>area</th>\n",
       "      <th>qualification</th>\n",
       "      <th>income</th>\n",
       "      <th>marital_status</th>\n",
       "      <th>vintage</th>\n",
       "      <th>claim_amount</th>\n",
       "      <th>num_policies</th>\n",
       "      <th>policy</th>\n",
       "      <th>type_of_policy</th>\n",
       "    </tr>\n",
       "  </thead>\n",
       "  <tbody>\n",
       "    <tr>\n",
       "      <th>0</th>\n",
       "      <td>1.0</td>\n",
       "      <td>1.0</td>\n",
       "      <td>0.0</td>\n",
       "      <td>0.333333</td>\n",
       "      <td>1.0</td>\n",
       "      <td>0.625</td>\n",
       "      <td>0.177968</td>\n",
       "      <td>1.0</td>\n",
       "      <td>0.0</td>\n",
       "      <td>0.5</td>\n",
       "    </tr>\n",
       "    <tr>\n",
       "      <th>1</th>\n",
       "      <td>1.0</td>\n",
       "      <td>0.0</td>\n",
       "      <td>0.5</td>\n",
       "      <td>0.333333</td>\n",
       "      <td>0.0</td>\n",
       "      <td>1.000</td>\n",
       "      <td>0.156144</td>\n",
       "      <td>1.0</td>\n",
       "      <td>0.0</td>\n",
       "      <td>0.5</td>\n",
       "    </tr>\n",
       "    <tr>\n",
       "      <th>2</th>\n",
       "      <td>1.0</td>\n",
       "      <td>1.0</td>\n",
       "      <td>0.0</td>\n",
       "      <td>0.333333</td>\n",
       "      <td>1.0</td>\n",
       "      <td>1.000</td>\n",
       "      <td>0.079886</td>\n",
       "      <td>1.0</td>\n",
       "      <td>0.0</td>\n",
       "      <td>0.5</td>\n",
       "    </tr>\n",
       "    <tr>\n",
       "      <th>3</th>\n",
       "      <td>0.0</td>\n",
       "      <td>0.0</td>\n",
       "      <td>0.5</td>\n",
       "      <td>0.333333</td>\n",
       "      <td>0.0</td>\n",
       "      <td>0.875</td>\n",
       "      <td>0.000000</td>\n",
       "      <td>1.0</td>\n",
       "      <td>0.0</td>\n",
       "      <td>0.5</td>\n",
       "    </tr>\n",
       "    <tr>\n",
       "      <th>4</th>\n",
       "      <td>1.0</td>\n",
       "      <td>1.0</td>\n",
       "      <td>0.5</td>\n",
       "      <td>1.000000</td>\n",
       "      <td>1.0</td>\n",
       "      <td>0.750</td>\n",
       "      <td>0.107826</td>\n",
       "      <td>1.0</td>\n",
       "      <td>0.0</td>\n",
       "      <td>0.0</td>\n",
       "    </tr>\n",
       "    <tr>\n",
       "      <th>...</th>\n",
       "      <td>...</td>\n",
       "      <td>...</td>\n",
       "      <td>...</td>\n",
       "      <td>...</td>\n",
       "      <td>...</td>\n",
       "      <td>...</td>\n",
       "      <td>...</td>\n",
       "      <td>...</td>\n",
       "      <td>...</td>\n",
       "      <td>...</td>\n",
       "    </tr>\n",
       "    <tr>\n",
       "      <th>148982</th>\n",
       "      <td>1.0</td>\n",
       "      <td>0.0</td>\n",
       "      <td>0.0</td>\n",
       "      <td>0.333333</td>\n",
       "      <td>1.0</td>\n",
       "      <td>0.750</td>\n",
       "      <td>0.000000</td>\n",
       "      <td>0.0</td>\n",
       "      <td>0.0</td>\n",
       "      <td>1.0</td>\n",
       "    </tr>\n",
       "    <tr>\n",
       "      <th>148983</th>\n",
       "      <td>1.0</td>\n",
       "      <td>1.0</td>\n",
       "      <td>0.5</td>\n",
       "      <td>0.333333</td>\n",
       "      <td>0.0</td>\n",
       "      <td>0.750</td>\n",
       "      <td>0.000000</td>\n",
       "      <td>0.0</td>\n",
       "      <td>1.0</td>\n",
       "      <td>0.0</td>\n",
       "    </tr>\n",
       "    <tr>\n",
       "      <th>148984</th>\n",
       "      <td>0.0</td>\n",
       "      <td>1.0</td>\n",
       "      <td>0.5</td>\n",
       "      <td>0.000000</td>\n",
       "      <td>1.0</td>\n",
       "      <td>0.500</td>\n",
       "      <td>0.102139</td>\n",
       "      <td>1.0</td>\n",
       "      <td>0.5</td>\n",
       "      <td>0.5</td>\n",
       "    </tr>\n",
       "    <tr>\n",
       "      <th>148985</th>\n",
       "      <td>1.0</td>\n",
       "      <td>0.0</td>\n",
       "      <td>0.0</td>\n",
       "      <td>0.333333</td>\n",
       "      <td>0.0</td>\n",
       "      <td>0.125</td>\n",
       "      <td>0.088707</td>\n",
       "      <td>1.0</td>\n",
       "      <td>0.0</td>\n",
       "      <td>1.0</td>\n",
       "    </tr>\n",
       "    <tr>\n",
       "      <th>148986</th>\n",
       "      <td>0.0</td>\n",
       "      <td>1.0</td>\n",
       "      <td>0.0</td>\n",
       "      <td>0.333333</td>\n",
       "      <td>1.0</td>\n",
       "      <td>0.500</td>\n",
       "      <td>0.182547</td>\n",
       "      <td>1.0</td>\n",
       "      <td>0.5</td>\n",
       "      <td>0.5</td>\n",
       "    </tr>\n",
       "  </tbody>\n",
       "</table>\n",
       "<p>148987 rows × 10 columns</p>\n",
       "</div>"
      ],
      "text/plain": [
       "        gender  area  qualification    income  marital_status  vintage  \\\n",
       "0          1.0   1.0            0.0  0.333333             1.0    0.625   \n",
       "1          1.0   0.0            0.5  0.333333             0.0    1.000   \n",
       "2          1.0   1.0            0.0  0.333333             1.0    1.000   \n",
       "3          0.0   0.0            0.5  0.333333             0.0    0.875   \n",
       "4          1.0   1.0            0.5  1.000000             1.0    0.750   \n",
       "...        ...   ...            ...       ...             ...      ...   \n",
       "148982     1.0   0.0            0.0  0.333333             1.0    0.750   \n",
       "148983     1.0   1.0            0.5  0.333333             0.0    0.750   \n",
       "148984     0.0   1.0            0.5  0.000000             1.0    0.500   \n",
       "148985     1.0   0.0            0.0  0.333333             0.0    0.125   \n",
       "148986     0.0   1.0            0.0  0.333333             1.0    0.500   \n",
       "\n",
       "        claim_amount  num_policies  policy  type_of_policy  \n",
       "0           0.177968           1.0     0.0             0.5  \n",
       "1           0.156144           1.0     0.0             0.5  \n",
       "2           0.079886           1.0     0.0             0.5  \n",
       "3           0.000000           1.0     0.0             0.5  \n",
       "4           0.107826           1.0     0.0             0.0  \n",
       "...              ...           ...     ...             ...  \n",
       "148982      0.000000           0.0     0.0             1.0  \n",
       "148983      0.000000           0.0     1.0             0.0  \n",
       "148984      0.102139           1.0     0.5             0.5  \n",
       "148985      0.088707           1.0     0.0             1.0  \n",
       "148986      0.182547           1.0     0.5             0.5  \n",
       "\n",
       "[148987 rows x 10 columns]"
      ]
     },
     "execution_count": 39,
     "metadata": {},
     "output_type": "execute_result"
    }
   ],
   "source": [
    "df"
   ]
  },
  {
   "cell_type": "code",
   "execution_count": 40,
   "id": "982ff1ed",
   "metadata": {},
   "outputs": [],
   "source": [
    "# Splitting again into train annd test\n",
    "\n",
    "x_train=df.iloc[:len(train_data),:]\n",
    "x_test=df.iloc[len(train_data):,:]"
   ]
  },
  {
   "cell_type": "code",
   "execution_count": 41,
   "id": "54fe31f1",
   "metadata": {},
   "outputs": [
    {
     "data": {
      "text/html": [
       "<div>\n",
       "<style scoped>\n",
       "    .dataframe tbody tr th:only-of-type {\n",
       "        vertical-align: middle;\n",
       "    }\n",
       "\n",
       "    .dataframe tbody tr th {\n",
       "        vertical-align: top;\n",
       "    }\n",
       "\n",
       "    .dataframe thead th {\n",
       "        text-align: right;\n",
       "    }\n",
       "</style>\n",
       "<table border=\"1\" class=\"dataframe\">\n",
       "  <thead>\n",
       "    <tr style=\"text-align: right;\">\n",
       "      <th></th>\n",
       "      <th>gender</th>\n",
       "      <th>area</th>\n",
       "      <th>qualification</th>\n",
       "      <th>income</th>\n",
       "      <th>marital_status</th>\n",
       "      <th>vintage</th>\n",
       "      <th>claim_amount</th>\n",
       "      <th>num_policies</th>\n",
       "      <th>policy</th>\n",
       "      <th>type_of_policy</th>\n",
       "    </tr>\n",
       "  </thead>\n",
       "  <tbody>\n",
       "    <tr>\n",
       "      <th>0</th>\n",
       "      <td>1.0</td>\n",
       "      <td>1.0</td>\n",
       "      <td>0.0</td>\n",
       "      <td>0.333333</td>\n",
       "      <td>1.0</td>\n",
       "      <td>0.625</td>\n",
       "      <td>0.177968</td>\n",
       "      <td>1.0</td>\n",
       "      <td>0.0</td>\n",
       "      <td>0.5</td>\n",
       "    </tr>\n",
       "    <tr>\n",
       "      <th>1</th>\n",
       "      <td>1.0</td>\n",
       "      <td>0.0</td>\n",
       "      <td>0.5</td>\n",
       "      <td>0.333333</td>\n",
       "      <td>0.0</td>\n",
       "      <td>1.000</td>\n",
       "      <td>0.156144</td>\n",
       "      <td>1.0</td>\n",
       "      <td>0.0</td>\n",
       "      <td>0.5</td>\n",
       "    </tr>\n",
       "    <tr>\n",
       "      <th>2</th>\n",
       "      <td>1.0</td>\n",
       "      <td>1.0</td>\n",
       "      <td>0.0</td>\n",
       "      <td>0.333333</td>\n",
       "      <td>1.0</td>\n",
       "      <td>1.000</td>\n",
       "      <td>0.079886</td>\n",
       "      <td>1.0</td>\n",
       "      <td>0.0</td>\n",
       "      <td>0.5</td>\n",
       "    </tr>\n",
       "    <tr>\n",
       "      <th>3</th>\n",
       "      <td>0.0</td>\n",
       "      <td>0.0</td>\n",
       "      <td>0.5</td>\n",
       "      <td>0.333333</td>\n",
       "      <td>0.0</td>\n",
       "      <td>0.875</td>\n",
       "      <td>0.000000</td>\n",
       "      <td>1.0</td>\n",
       "      <td>0.0</td>\n",
       "      <td>0.5</td>\n",
       "    </tr>\n",
       "    <tr>\n",
       "      <th>4</th>\n",
       "      <td>1.0</td>\n",
       "      <td>1.0</td>\n",
       "      <td>0.5</td>\n",
       "      <td>1.000000</td>\n",
       "      <td>1.0</td>\n",
       "      <td>0.750</td>\n",
       "      <td>0.107826</td>\n",
       "      <td>1.0</td>\n",
       "      <td>0.0</td>\n",
       "      <td>0.0</td>\n",
       "    </tr>\n",
       "    <tr>\n",
       "      <th>...</th>\n",
       "      <td>...</td>\n",
       "      <td>...</td>\n",
       "      <td>...</td>\n",
       "      <td>...</td>\n",
       "      <td>...</td>\n",
       "      <td>...</td>\n",
       "      <td>...</td>\n",
       "      <td>...</td>\n",
       "      <td>...</td>\n",
       "      <td>...</td>\n",
       "    </tr>\n",
       "    <tr>\n",
       "      <th>89387</th>\n",
       "      <td>1.0</td>\n",
       "      <td>0.0</td>\n",
       "      <td>0.5</td>\n",
       "      <td>1.000000</td>\n",
       "      <td>0.0</td>\n",
       "      <td>0.750</td>\n",
       "      <td>0.000000</td>\n",
       "      <td>1.0</td>\n",
       "      <td>0.5</td>\n",
       "      <td>0.5</td>\n",
       "    </tr>\n",
       "    <tr>\n",
       "      <th>89388</th>\n",
       "      <td>1.0</td>\n",
       "      <td>1.0</td>\n",
       "      <td>0.0</td>\n",
       "      <td>0.333333</td>\n",
       "      <td>1.0</td>\n",
       "      <td>0.000</td>\n",
       "      <td>0.119782</td>\n",
       "      <td>1.0</td>\n",
       "      <td>0.0</td>\n",
       "      <td>0.5</td>\n",
       "    </tr>\n",
       "    <tr>\n",
       "      <th>89389</th>\n",
       "      <td>0.0</td>\n",
       "      <td>1.0</td>\n",
       "      <td>0.0</td>\n",
       "      <td>0.333333</td>\n",
       "      <td>0.0</td>\n",
       "      <td>0.500</td>\n",
       "      <td>0.103369</td>\n",
       "      <td>1.0</td>\n",
       "      <td>0.5</td>\n",
       "      <td>0.5</td>\n",
       "    </tr>\n",
       "    <tr>\n",
       "      <th>89390</th>\n",
       "      <td>0.0</td>\n",
       "      <td>0.0</td>\n",
       "      <td>0.5</td>\n",
       "      <td>0.000000</td>\n",
       "      <td>0.0</td>\n",
       "      <td>1.000</td>\n",
       "      <td>0.000000</td>\n",
       "      <td>1.0</td>\n",
       "      <td>0.5</td>\n",
       "      <td>0.5</td>\n",
       "    </tr>\n",
       "    <tr>\n",
       "      <th>89391</th>\n",
       "      <td>0.0</td>\n",
       "      <td>0.0</td>\n",
       "      <td>0.5</td>\n",
       "      <td>0.333333</td>\n",
       "      <td>0.0</td>\n",
       "      <td>0.750</td>\n",
       "      <td>0.000000</td>\n",
       "      <td>1.0</td>\n",
       "      <td>0.5</td>\n",
       "      <td>0.0</td>\n",
       "    </tr>\n",
       "  </tbody>\n",
       "</table>\n",
       "<p>89392 rows × 10 columns</p>\n",
       "</div>"
      ],
      "text/plain": [
       "       gender  area  qualification    income  marital_status  vintage  \\\n",
       "0         1.0   1.0            0.0  0.333333             1.0    0.625   \n",
       "1         1.0   0.0            0.5  0.333333             0.0    1.000   \n",
       "2         1.0   1.0            0.0  0.333333             1.0    1.000   \n",
       "3         0.0   0.0            0.5  0.333333             0.0    0.875   \n",
       "4         1.0   1.0            0.5  1.000000             1.0    0.750   \n",
       "...       ...   ...            ...       ...             ...      ...   \n",
       "89387     1.0   0.0            0.5  1.000000             0.0    0.750   \n",
       "89388     1.0   1.0            0.0  0.333333             1.0    0.000   \n",
       "89389     0.0   1.0            0.0  0.333333             0.0    0.500   \n",
       "89390     0.0   0.0            0.5  0.000000             0.0    1.000   \n",
       "89391     0.0   0.0            0.5  0.333333             0.0    0.750   \n",
       "\n",
       "       claim_amount  num_policies  policy  type_of_policy  \n",
       "0          0.177968           1.0     0.0             0.5  \n",
       "1          0.156144           1.0     0.0             0.5  \n",
       "2          0.079886           1.0     0.0             0.5  \n",
       "3          0.000000           1.0     0.0             0.5  \n",
       "4          0.107826           1.0     0.0             0.0  \n",
       "...             ...           ...     ...             ...  \n",
       "89387      0.000000           1.0     0.5             0.5  \n",
       "89388      0.119782           1.0     0.0             0.5  \n",
       "89389      0.103369           1.0     0.5             0.5  \n",
       "89390      0.000000           1.0     0.5             0.5  \n",
       "89391      0.000000           1.0     0.5             0.0  \n",
       "\n",
       "[89392 rows x 10 columns]"
      ]
     },
     "execution_count": 41,
     "metadata": {},
     "output_type": "execute_result"
    }
   ],
   "source": [
    "x_train"
   ]
  },
  {
   "cell_type": "code",
   "execution_count": 42,
   "id": "91df3500",
   "metadata": {},
   "outputs": [
    {
     "data": {
      "text/html": [
       "<div>\n",
       "<style scoped>\n",
       "    .dataframe tbody tr th:only-of-type {\n",
       "        vertical-align: middle;\n",
       "    }\n",
       "\n",
       "    .dataframe tbody tr th {\n",
       "        vertical-align: top;\n",
       "    }\n",
       "\n",
       "    .dataframe thead th {\n",
       "        text-align: right;\n",
       "    }\n",
       "</style>\n",
       "<table border=\"1\" class=\"dataframe\">\n",
       "  <thead>\n",
       "    <tr style=\"text-align: right;\">\n",
       "      <th></th>\n",
       "      <th>gender</th>\n",
       "      <th>area</th>\n",
       "      <th>qualification</th>\n",
       "      <th>income</th>\n",
       "      <th>marital_status</th>\n",
       "      <th>vintage</th>\n",
       "      <th>claim_amount</th>\n",
       "      <th>num_policies</th>\n",
       "      <th>policy</th>\n",
       "      <th>type_of_policy</th>\n",
       "    </tr>\n",
       "  </thead>\n",
       "  <tbody>\n",
       "    <tr>\n",
       "      <th>89392</th>\n",
       "      <td>0.0</td>\n",
       "      <td>0.0</td>\n",
       "      <td>0.5</td>\n",
       "      <td>0.333333</td>\n",
       "      <td>0.0</td>\n",
       "      <td>0.750</td>\n",
       "      <td>0.065593</td>\n",
       "      <td>1.0</td>\n",
       "      <td>0.5</td>\n",
       "      <td>1.0</td>\n",
       "    </tr>\n",
       "    <tr>\n",
       "      <th>89393</th>\n",
       "      <td>0.0</td>\n",
       "      <td>1.0</td>\n",
       "      <td>0.5</td>\n",
       "      <td>0.000000</td>\n",
       "      <td>0.0</td>\n",
       "      <td>0.500</td>\n",
       "      <td>0.126083</td>\n",
       "      <td>1.0</td>\n",
       "      <td>0.0</td>\n",
       "      <td>0.5</td>\n",
       "    </tr>\n",
       "    <tr>\n",
       "      <th>89394</th>\n",
       "      <td>1.0</td>\n",
       "      <td>0.0</td>\n",
       "      <td>0.5</td>\n",
       "      <td>0.333333</td>\n",
       "      <td>1.0</td>\n",
       "      <td>0.875</td>\n",
       "      <td>0.089906</td>\n",
       "      <td>1.0</td>\n",
       "      <td>0.5</td>\n",
       "      <td>0.0</td>\n",
       "    </tr>\n",
       "    <tr>\n",
       "      <th>89395</th>\n",
       "      <td>0.0</td>\n",
       "      <td>0.0</td>\n",
       "      <td>0.0</td>\n",
       "      <td>1.000000</td>\n",
       "      <td>1.0</td>\n",
       "      <td>0.250</td>\n",
       "      <td>0.000000</td>\n",
       "      <td>1.0</td>\n",
       "      <td>0.5</td>\n",
       "      <td>1.0</td>\n",
       "    </tr>\n",
       "    <tr>\n",
       "      <th>89396</th>\n",
       "      <td>0.0</td>\n",
       "      <td>1.0</td>\n",
       "      <td>0.5</td>\n",
       "      <td>0.000000</td>\n",
       "      <td>0.0</td>\n",
       "      <td>0.625</td>\n",
       "      <td>0.432133</td>\n",
       "      <td>1.0</td>\n",
       "      <td>0.5</td>\n",
       "      <td>1.0</td>\n",
       "    </tr>\n",
       "    <tr>\n",
       "      <th>...</th>\n",
       "      <td>...</td>\n",
       "      <td>...</td>\n",
       "      <td>...</td>\n",
       "      <td>...</td>\n",
       "      <td>...</td>\n",
       "      <td>...</td>\n",
       "      <td>...</td>\n",
       "      <td>...</td>\n",
       "      <td>...</td>\n",
       "      <td>...</td>\n",
       "    </tr>\n",
       "    <tr>\n",
       "      <th>148982</th>\n",
       "      <td>1.0</td>\n",
       "      <td>0.0</td>\n",
       "      <td>0.0</td>\n",
       "      <td>0.333333</td>\n",
       "      <td>1.0</td>\n",
       "      <td>0.750</td>\n",
       "      <td>0.000000</td>\n",
       "      <td>0.0</td>\n",
       "      <td>0.0</td>\n",
       "      <td>1.0</td>\n",
       "    </tr>\n",
       "    <tr>\n",
       "      <th>148983</th>\n",
       "      <td>1.0</td>\n",
       "      <td>1.0</td>\n",
       "      <td>0.5</td>\n",
       "      <td>0.333333</td>\n",
       "      <td>0.0</td>\n",
       "      <td>0.750</td>\n",
       "      <td>0.000000</td>\n",
       "      <td>0.0</td>\n",
       "      <td>1.0</td>\n",
       "      <td>0.0</td>\n",
       "    </tr>\n",
       "    <tr>\n",
       "      <th>148984</th>\n",
       "      <td>0.0</td>\n",
       "      <td>1.0</td>\n",
       "      <td>0.5</td>\n",
       "      <td>0.000000</td>\n",
       "      <td>1.0</td>\n",
       "      <td>0.500</td>\n",
       "      <td>0.102139</td>\n",
       "      <td>1.0</td>\n",
       "      <td>0.5</td>\n",
       "      <td>0.5</td>\n",
       "    </tr>\n",
       "    <tr>\n",
       "      <th>148985</th>\n",
       "      <td>1.0</td>\n",
       "      <td>0.0</td>\n",
       "      <td>0.0</td>\n",
       "      <td>0.333333</td>\n",
       "      <td>0.0</td>\n",
       "      <td>0.125</td>\n",
       "      <td>0.088707</td>\n",
       "      <td>1.0</td>\n",
       "      <td>0.0</td>\n",
       "      <td>1.0</td>\n",
       "    </tr>\n",
       "    <tr>\n",
       "      <th>148986</th>\n",
       "      <td>0.0</td>\n",
       "      <td>1.0</td>\n",
       "      <td>0.0</td>\n",
       "      <td>0.333333</td>\n",
       "      <td>1.0</td>\n",
       "      <td>0.500</td>\n",
       "      <td>0.182547</td>\n",
       "      <td>1.0</td>\n",
       "      <td>0.5</td>\n",
       "      <td>0.5</td>\n",
       "    </tr>\n",
       "  </tbody>\n",
       "</table>\n",
       "<p>59595 rows × 10 columns</p>\n",
       "</div>"
      ],
      "text/plain": [
       "        gender  area  qualification    income  marital_status  vintage  \\\n",
       "89392      0.0   0.0            0.5  0.333333             0.0    0.750   \n",
       "89393      0.0   1.0            0.5  0.000000             0.0    0.500   \n",
       "89394      1.0   0.0            0.5  0.333333             1.0    0.875   \n",
       "89395      0.0   0.0            0.0  1.000000             1.0    0.250   \n",
       "89396      0.0   1.0            0.5  0.000000             0.0    0.625   \n",
       "...        ...   ...            ...       ...             ...      ...   \n",
       "148982     1.0   0.0            0.0  0.333333             1.0    0.750   \n",
       "148983     1.0   1.0            0.5  0.333333             0.0    0.750   \n",
       "148984     0.0   1.0            0.5  0.000000             1.0    0.500   \n",
       "148985     1.0   0.0            0.0  0.333333             0.0    0.125   \n",
       "148986     0.0   1.0            0.0  0.333333             1.0    0.500   \n",
       "\n",
       "        claim_amount  num_policies  policy  type_of_policy  \n",
       "89392       0.065593           1.0     0.5             1.0  \n",
       "89393       0.126083           1.0     0.0             0.5  \n",
       "89394       0.089906           1.0     0.5             0.0  \n",
       "89395       0.000000           1.0     0.5             1.0  \n",
       "89396       0.432133           1.0     0.5             1.0  \n",
       "...              ...           ...     ...             ...  \n",
       "148982      0.000000           0.0     0.0             1.0  \n",
       "148983      0.000000           0.0     1.0             0.0  \n",
       "148984      0.102139           1.0     0.5             0.5  \n",
       "148985      0.088707           1.0     0.0             1.0  \n",
       "148986      0.182547           1.0     0.5             0.5  \n",
       "\n",
       "[59595 rows x 10 columns]"
      ]
     },
     "execution_count": 42,
     "metadata": {},
     "output_type": "execute_result"
    }
   ],
   "source": [
    "x_test"
   ]
  },
  {
   "cell_type": "code",
   "execution_count": 43,
   "id": "e20dfe35",
   "metadata": {},
   "outputs": [
    {
     "data": {
      "text/plain": [
       "0         64308\n",
       "1        515400\n",
       "2         64212\n",
       "3         97920\n",
       "4         59736\n",
       "          ...  \n",
       "89387     95736\n",
       "89388     67596\n",
       "89389    114120\n",
       "89390     71772\n",
       "89391    108144\n",
       "Name: cltv, Length: 89392, dtype: int64"
      ]
     },
     "execution_count": 43,
     "metadata": {},
     "output_type": "execute_result"
    }
   ],
   "source": [
    "y_train"
   ]
  },
  {
   "cell_type": "markdown",
   "id": "78200ff4",
   "metadata": {},
   "source": [
    "# Splitting training data into training & validation data"
   ]
  },
  {
   "cell_type": "code",
   "execution_count": 44,
   "id": "e996b032",
   "metadata": {},
   "outputs": [],
   "source": [
    "from sklearn.model_selection import train_test_split"
   ]
  },
  {
   "cell_type": "code",
   "execution_count": 45,
   "id": "c74a8a7a",
   "metadata": {},
   "outputs": [],
   "source": [
    "# Splitting training data further into 2- train and validation\n",
    "x_train,x_val,y_train,y_val = train_test_split(x_train,y_train,test_size=0.3,random_state=8)"
   ]
  },
  {
   "cell_type": "code",
   "execution_count": 46,
   "id": "9b4f6ffe",
   "metadata": {},
   "outputs": [
    {
     "name": "stdout",
     "output_type": "stream",
     "text": [
      "(62574, 10) (62574,)\n"
     ]
    }
   ],
   "source": [
    "print(x_train.shape,y_train.shape)"
   ]
  },
  {
   "cell_type": "code",
   "execution_count": 47,
   "id": "9da8feb3",
   "metadata": {},
   "outputs": [
    {
     "name": "stdout",
     "output_type": "stream",
     "text": [
      "(26818, 10) (26818,)\n"
     ]
    }
   ],
   "source": [
    "print(x_val.shape,y_val.shape)"
   ]
  },
  {
   "cell_type": "markdown",
   "id": "970ac21b",
   "metadata": {},
   "source": [
    "We will train the data on x_train and y_tain and test the data on the validation set."
   ]
  },
  {
   "cell_type": "markdown",
   "id": "7c21fefd",
   "metadata": {},
   "source": [
    "# Model Creation"
   ]
  },
  {
   "cell_type": "code",
   "execution_count": 49,
   "id": "e81bc78a",
   "metadata": {},
   "outputs": [],
   "source": [
    "# Models\n",
    "from sklearn.linear_model import LinearRegression\n",
    "from sklearn.tree import DecisionTreeRegressor\n",
    "from sklearn.ensemble import RandomForestRegressor\n",
    "from sklearn.linear_model import Ridge\n",
    "from sklearn.neighbors import KNeighborsRegressor\n",
    "import xgboost \n",
    "import catboost\n",
    "from xgboost import XGBRegressor\n",
    "from sklearn.ensemble import BaggingRegressor\n",
    "from sklearn.ensemble import AdaBoostRegressor\n",
    "from sklearn.ensemble import GradientBoostingRegressor\n",
    "from catboost import CatBoostRegressor\n",
    "\n",
    "# Evaluation metrics\n",
    "from sklearn.metrics import mean_absolute_error as MAE\n",
    "from sklearn.metrics import mean_squared_error as MSE\n",
    "from sklearn.metrics import r2_score"
   ]
  },
  {
   "cell_type": "markdown",
   "id": "18b52fa9",
   "metadata": {},
   "source": [
    "### Linear Regression"
   ]
  },
  {
   "cell_type": "code",
   "execution_count": 50,
   "id": "29971d02",
   "metadata": {},
   "outputs": [],
   "source": [
    "lr_model = LinearRegression()\n",
    "lr_model.fit(x_train,y_train)\n",
    "lr_train_pred=lr_model.predict(x_train)\n",
    "lr_val_pred=lr_model.predict(x_val)"
   ]
  },
  {
   "cell_type": "code",
   "execution_count": 51,
   "id": "fcc7e56d",
   "metadata": {},
   "outputs": [
    {
     "data": {
      "text/plain": [
       "0.14766910024866775"
      ]
     },
     "execution_count": 51,
     "metadata": {},
     "output_type": "execute_result"
    }
   ],
   "source": [
    "lr_train_r2 = r2_score(y_train,lr_train_pred)\n",
    "lr_train_r2"
   ]
  },
  {
   "cell_type": "code",
   "execution_count": 52,
   "id": "70074196",
   "metadata": {},
   "outputs": [
    {
     "data": {
      "text/plain": [
       "0.15296863119111026"
      ]
     },
     "execution_count": 52,
     "metadata": {},
     "output_type": "execute_result"
    }
   ],
   "source": [
    "lr_val_r2 = r2_score(y_val,lr_val_pred)\n",
    "lr_val_r2"
   ]
  },
  {
   "cell_type": "code",
   "execution_count": 53,
   "id": "d336cc8e",
   "metadata": {},
   "outputs": [
    {
     "data": {
      "text/plain": [
       "7002353175.266219"
      ]
     },
     "execution_count": 53,
     "metadata": {},
     "output_type": "execute_result"
    }
   ],
   "source": [
    "lr_mse=MSE(y_train,lr_train_pred)\n",
    "lr_mse"
   ]
  },
  {
   "cell_type": "code",
   "execution_count": 54,
   "id": "f212e732",
   "metadata": {},
   "outputs": [
    {
     "data": {
      "text/plain": [
       "51523.47141396443"
      ]
     },
     "execution_count": 54,
     "metadata": {},
     "output_type": "execute_result"
    }
   ],
   "source": [
    "lr_mae=MAE(y_train,lr_train_pred)\n",
    "lr_mae"
   ]
  },
  {
   "cell_type": "code",
   "execution_count": 55,
   "id": "924ba143",
   "metadata": {},
   "outputs": [],
   "source": [
    "# Linear Regression is not performing well"
   ]
  },
  {
   "cell_type": "markdown",
   "id": "40b61ebe",
   "metadata": {},
   "source": [
    "### Decision Tree Regressor"
   ]
  },
  {
   "cell_type": "code",
   "execution_count": 56,
   "id": "dfa0341e",
   "metadata": {},
   "outputs": [],
   "source": [
    "dt_model = DecisionTreeRegressor(random_state=0)\n",
    "dt_model.fit(x_train,y_train)\n",
    "dt_train_pred=dt_model.predict(x_train)\n",
    "dt_val_pred=dt_model.predict(x_val)"
   ]
  },
  {
   "cell_type": "code",
   "execution_count": 57,
   "id": "bf4d555e",
   "metadata": {},
   "outputs": [
    {
     "data": {
      "text/plain": [
       "0.9456028010122433"
      ]
     },
     "execution_count": 57,
     "metadata": {},
     "output_type": "execute_result"
    }
   ],
   "source": [
    "dt_train_r2 = r2_score(y_train,dt_train_pred)\n",
    "dt_train_r2"
   ]
  },
  {
   "cell_type": "code",
   "execution_count": 58,
   "id": "22a21d7f",
   "metadata": {},
   "outputs": [
    {
     "data": {
      "text/plain": [
       "-0.757943698584228"
      ]
     },
     "execution_count": 58,
     "metadata": {},
     "output_type": "execute_result"
    }
   ],
   "source": [
    "dt_val_r2 = r2_score(y_val,dt_val_pred)\n",
    "dt_val_r2"
   ]
  },
  {
   "cell_type": "code",
   "execution_count": 59,
   "id": "3fd831ae",
   "metadata": {},
   "outputs": [
    {
     "data": {
      "text/plain": [
       "446902017.9470633"
      ]
     },
     "execution_count": 59,
     "metadata": {},
     "output_type": "execute_result"
    }
   ],
   "source": [
    "dt_mse=MSE(y_train,dt_train_pred)\n",
    "dt_mse"
   ]
  },
  {
   "cell_type": "code",
   "execution_count": 60,
   "id": "12ed32ce",
   "metadata": {},
   "outputs": [
    {
     "data": {
      "text/plain": [
       "4720.376752832426"
      ]
     },
     "execution_count": 60,
     "metadata": {},
     "output_type": "execute_result"
    }
   ],
   "source": [
    "dt_mae=MAE(y_train,dt_train_pred)\n",
    "dt_mae"
   ]
  },
  {
   "cell_type": "markdown",
   "id": "814b6ae8",
   "metadata": {},
   "source": [
    "### Random Forest Regressor"
   ]
  },
  {
   "cell_type": "code",
   "execution_count": 61,
   "id": "9aab7643",
   "metadata": {},
   "outputs": [],
   "source": [
    "rf_model = RandomForestRegressor(n_estimators=500,random_state=0)\n",
    "rf_model.fit(x_train,y_train)\n",
    "rf_train_pred=rf_model.predict(x_train)\n",
    "rf_val_pred=rf_model.predict(x_val)"
   ]
  },
  {
   "cell_type": "code",
   "execution_count": 62,
   "id": "116873b0",
   "metadata": {},
   "outputs": [
    {
     "data": {
      "text/plain": [
       "0.8267477009023815"
      ]
     },
     "execution_count": 62,
     "metadata": {},
     "output_type": "execute_result"
    }
   ],
   "source": [
    "rf_train_r2 = r2_score(y_train,rf_train_pred)\n",
    "rf_train_r2"
   ]
  },
  {
   "cell_type": "code",
   "execution_count": 63,
   "id": "02030dc6",
   "metadata": {},
   "outputs": [
    {
     "data": {
      "text/plain": [
       "0.044856290000015564"
      ]
     },
     "execution_count": 63,
     "metadata": {},
     "output_type": "execute_result"
    }
   ],
   "source": [
    "rf_val_r2 = r2_score(y_val,rf_val_pred)\n",
    "rf_val_r2"
   ]
  },
  {
   "cell_type": "code",
   "execution_count": 64,
   "id": "0183fabf",
   "metadata": {},
   "outputs": [
    {
     "data": {
      "text/plain": [
       "1423360090.6201162"
      ]
     },
     "execution_count": 64,
     "metadata": {},
     "output_type": "execute_result"
    }
   ],
   "source": [
    "rf_mse=MSE(y_train,rf_train_pred)\n",
    "rf_mse"
   ]
  },
  {
   "cell_type": "code",
   "execution_count": 65,
   "id": "e113c215",
   "metadata": {},
   "outputs": [
    {
     "data": {
      "text/plain": [
       "22992.929084470386"
      ]
     },
     "execution_count": 65,
     "metadata": {},
     "output_type": "execute_result"
    }
   ],
   "source": [
    "rf_mae=MAE(y_train,rf_train_pred)\n",
    "rf_mae"
   ]
  },
  {
   "cell_type": "markdown",
   "id": "dcb151d7",
   "metadata": {},
   "source": [
    "### Ridge Regressor"
   ]
  },
  {
   "cell_type": "code",
   "execution_count": 66,
   "id": "0f43a746",
   "metadata": {},
   "outputs": [],
   "source": [
    "r_model = Ridge(random_state=0)\n",
    "r_model.fit(x_train,y_train)\n",
    "r_train_pred=r_model.predict(x_train)\n",
    "r_val_pred=r_model.predict(x_val)"
   ]
  },
  {
   "cell_type": "code",
   "execution_count": 67,
   "id": "86c1535d",
   "metadata": {},
   "outputs": [
    {
     "data": {
      "text/plain": [
       "0.14766906726964402"
      ]
     },
     "execution_count": 67,
     "metadata": {},
     "output_type": "execute_result"
    }
   ],
   "source": [
    "r_train_r2=r2_score(y_train,r_train_pred)\n",
    "r_train_r2"
   ]
  },
  {
   "cell_type": "code",
   "execution_count": 68,
   "id": "c02e022f",
   "metadata": {},
   "outputs": [
    {
     "data": {
      "text/plain": [
       "0.15296719094083866"
      ]
     },
     "execution_count": 68,
     "metadata": {},
     "output_type": "execute_result"
    }
   ],
   "source": [
    "r_val_r2=r2_score(y_val,r_val_pred)\n",
    "r_val_r2"
   ]
  },
  {
   "cell_type": "code",
   "execution_count": 69,
   "id": "77d32345",
   "metadata": {},
   "outputs": [
    {
     "data": {
      "text/plain": [
       "7002353446.206497"
      ]
     },
     "execution_count": 69,
     "metadata": {},
     "output_type": "execute_result"
    }
   ],
   "source": [
    "r_mse=MSE(y_train,r_train_pred)\n",
    "r_mse"
   ]
  },
  {
   "cell_type": "code",
   "execution_count": 70,
   "id": "7fca8380",
   "metadata": {},
   "outputs": [
    {
     "data": {
      "text/plain": [
       "51522.85587990758"
      ]
     },
     "execution_count": 70,
     "metadata": {},
     "output_type": "execute_result"
    }
   ],
   "source": [
    "r_mae=MAE(y_train,r_train_pred)\n",
    "r_mae"
   ]
  },
  {
   "cell_type": "markdown",
   "id": "ea968269",
   "metadata": {},
   "source": [
    "### XGBoost "
   ]
  },
  {
   "cell_type": "code",
   "execution_count": 71,
   "id": "9aa78f26",
   "metadata": {},
   "outputs": [],
   "source": [
    "xgb_model = XGBRegressor(n_estimators=500,learning_rate=0.01)\n",
    "xgb_model.fit(x_train,y_train)\n",
    "xgb_train_pred=xgb_model.predict(x_train)\n",
    "xgb_val_pred=xgb_model.predict(x_val)"
   ]
  },
  {
   "cell_type": "code",
   "execution_count": 72,
   "id": "cd17a5ff",
   "metadata": {},
   "outputs": [
    {
     "data": {
      "text/plain": [
       "0.18358644691775672"
      ]
     },
     "execution_count": 72,
     "metadata": {},
     "output_type": "execute_result"
    }
   ],
   "source": [
    "xgb_train_r2=r2_score(y_train,xgb_train_pred)\n",
    "xgb_train_r2"
   ]
  },
  {
   "cell_type": "code",
   "execution_count": 73,
   "id": "a846b1af",
   "metadata": {},
   "outputs": [
    {
     "data": {
      "text/plain": [
       "0.16231768533513313"
      ]
     },
     "execution_count": 73,
     "metadata": {},
     "output_type": "execute_result"
    }
   ],
   "source": [
    "xgb_val_r2 = r2_score(y_val,xgb_val_pred)\n",
    "xgb_val_r2"
   ]
  },
  {
   "cell_type": "code",
   "execution_count": 74,
   "id": "9fc5828d",
   "metadata": {},
   "outputs": [
    {
     "data": {
      "text/plain": [
       "6707273005.617542"
      ]
     },
     "execution_count": 74,
     "metadata": {},
     "output_type": "execute_result"
    }
   ],
   "source": [
    "xgb_mse=MSE(y_train,xgb_train_pred)\n",
    "xgb_mse"
   ]
  },
  {
   "cell_type": "code",
   "execution_count": 75,
   "id": "9d2f2bdf",
   "metadata": {},
   "outputs": [
    {
     "data": {
      "text/plain": [
       "49518.40011570051"
      ]
     },
     "execution_count": 75,
     "metadata": {},
     "output_type": "execute_result"
    }
   ],
   "source": [
    "xgb_mae=MAE(y_train,xgb_train_pred)\n",
    "xgb_mae"
   ]
  },
  {
   "cell_type": "markdown",
   "id": "84467101",
   "metadata": {},
   "source": [
    "### AdaBoost Regressor"
   ]
  },
  {
   "cell_type": "code",
   "execution_count": 76,
   "id": "b6516a01",
   "metadata": {},
   "outputs": [],
   "source": [
    "ada_model=AdaBoostRegressor(n_estimators=1000,learning_rate=4,random_state=0)\n",
    "ada_model.fit(x_train,y_train)\n",
    "ada_train_pred=ada_model.predict(x_train)\n",
    "ada_val_pred=ada_model.predict(x_val)"
   ]
  },
  {
   "cell_type": "code",
   "execution_count": 77,
   "id": "3b148412",
   "metadata": {},
   "outputs": [
    {
     "data": {
      "text/plain": [
       "0.14968119265803603"
      ]
     },
     "execution_count": 77,
     "metadata": {},
     "output_type": "execute_result"
    }
   ],
   "source": [
    "ada_train_r2=r2_score(y_train,ada_train_pred)\n",
    "ada_train_r2"
   ]
  },
  {
   "cell_type": "code",
   "execution_count": 78,
   "id": "e3b8893e",
   "metadata": {},
   "outputs": [
    {
     "data": {
      "text/plain": [
       "0.15483630101090096"
      ]
     },
     "execution_count": 78,
     "metadata": {},
     "output_type": "execute_result"
    }
   ],
   "source": [
    "ada_val_r2=r2_score(y_val,ada_val_pred)\n",
    "ada_val_r2"
   ]
  },
  {
   "cell_type": "markdown",
   "id": "81624e34",
   "metadata": {},
   "source": [
    "### Bagging Regressor"
   ]
  },
  {
   "cell_type": "code",
   "execution_count": 79,
   "id": "d7e5761b",
   "metadata": {},
   "outputs": [],
   "source": [
    "bag_model=BaggingRegressor(n_estimators=1000,random_state=0)\n",
    "bag_model.fit(x_train,y_train)\n",
    "bag_train_pred=bag_model.predict(x_train)\n",
    "bag_val_pred=bag_model.predict(x_val)"
   ]
  },
  {
   "cell_type": "code",
   "execution_count": 80,
   "id": "da058a37",
   "metadata": {},
   "outputs": [
    {
     "data": {
      "text/plain": [
       "0.8270960418668067"
      ]
     },
     "execution_count": 80,
     "metadata": {},
     "output_type": "execute_result"
    }
   ],
   "source": [
    "bag_train_r2=r2_score(y_train,bag_train_pred)\n",
    "bag_train_r2"
   ]
  },
  {
   "cell_type": "code",
   "execution_count": 81,
   "id": "026b13d8",
   "metadata": {},
   "outputs": [
    {
     "data": {
      "text/plain": [
       "0.04615942001317841"
      ]
     },
     "execution_count": 81,
     "metadata": {},
     "output_type": "execute_result"
    }
   ],
   "source": [
    "bag_val_r2=r2_score(y_val,bag_val_pred)\n",
    "bag_val_r2"
   ]
  },
  {
   "cell_type": "markdown",
   "id": "9539a0ef",
   "metadata": {},
   "source": [
    "### CatBoost Regressor"
   ]
  },
  {
   "cell_type": "code",
   "execution_count": 125,
   "id": "6919718d",
   "metadata": {},
   "outputs": [],
   "source": [
    "cat_model=CatBoostRegressor(iterations=100,learning_rate=0.05,l2_leaf_reg=5,depth=6,random_state=0,verbose=0)\n",
    "cat_model.fit(x_train,y_train)\n",
    "cat_train_pred=cat_model.predict(x_train)\n",
    "cat_val_pred=cat_model.predict(x_val)"
   ]
  },
  {
   "cell_type": "code",
   "execution_count": 126,
   "id": "f3334e93",
   "metadata": {},
   "outputs": [
    {
     "data": {
      "text/plain": [
       "0.16406418789997768"
      ]
     },
     "execution_count": 126,
     "metadata": {},
     "output_type": "execute_result"
    }
   ],
   "source": [
    "cat_train_r2 = r2_score(y_train,cat_train_pred)\n",
    "cat_train_r2"
   ]
  },
  {
   "cell_type": "code",
   "execution_count": 127,
   "id": "8f5de55d",
   "metadata": {},
   "outputs": [
    {
     "data": {
      "text/plain": [
       "0.16499256695461872"
      ]
     },
     "execution_count": 127,
     "metadata": {},
     "output_type": "execute_result"
    }
   ],
   "source": [
    "cat_val_r2=r2_score(y_val,cat_val_pred)\n",
    "cat_val_r2"
   ]
  },
  {
   "cell_type": "markdown",
   "id": "34aa6ba2",
   "metadata": {},
   "source": [
    "### Gradient Boosting Regressor"
   ]
  },
  {
   "cell_type": "code",
   "execution_count": 85,
   "id": "a95760b1",
   "metadata": {},
   "outputs": [],
   "source": [
    "gbr_model=GradientBoostingRegressor(loss='squared_error',learning_rate=0.05,n_estimators=200,random_state=0)\n",
    "gbr_model.fit(x_train,y_train)\n",
    "gbr_train_pred=gbr_model.predict(x_train)\n",
    "gbr_val_pred=gbr_model.predict(x_val)"
   ]
  },
  {
   "cell_type": "code",
   "execution_count": 86,
   "id": "88799bca",
   "metadata": {},
   "outputs": [
    {
     "data": {
      "text/plain": [
       "0.16594218189907828"
      ]
     },
     "execution_count": 86,
     "metadata": {},
     "output_type": "execute_result"
    }
   ],
   "source": [
    "gbr_train_r2 = r2_score(y_train,gbr_train_pred)\n",
    "gbr_train_r2"
   ]
  },
  {
   "cell_type": "code",
   "execution_count": 87,
   "id": "8d8578b8",
   "metadata": {},
   "outputs": [
    {
     "data": {
      "text/plain": [
       "0.1643639680027179"
      ]
     },
     "execution_count": 87,
     "metadata": {},
     "output_type": "execute_result"
    }
   ],
   "source": [
    "gbr_val_r2=r2_score(y_val,gbr_val_pred)\n",
    "gbr_val_r2"
   ]
  },
  {
   "cell_type": "markdown",
   "id": "22b8d27e",
   "metadata": {},
   "source": [
    "# Results of training and validation set"
   ]
  },
  {
   "cell_type": "code",
   "execution_count": 105,
   "id": "36aa41af",
   "metadata": {},
   "outputs": [],
   "source": [
    "# Creating a dataframe showing the r2_score for both training and validation data\n",
    "results=pd.DataFrame({\n",
    "                    'Models':['Linear Regression','Decision Tree','Random Forest','Ridge Regressor',\n",
    "                              'XGBoost','AdaBoost','Bagging Regressor','CatBoost','GradientBoost'],\n",
    "    \n",
    "                    'train_Score':[lr_train_r2, dt_train_r2, rf_train_r2, r_train_r2,\n",
    "                              xgb_train_r2, ada_train_r2, bag_train_r2, cat_train_r2, gbr_train_r2],\n",
    "    \n",
    "                    'val_Score':[lr_val_r2, dt_val_r2, rf_val_r2, r_val_r2,\n",
    "                              xgb_val_r2, ada_val_r2, bag_val_r2, cat_val_r2, gbr_val_r2],\n",
    "                     })"
   ]
  },
  {
   "cell_type": "code",
   "execution_count": 92,
   "id": "d5fe0658",
   "metadata": {},
   "outputs": [
    {
     "data": {
      "text/html": [
       "<div>\n",
       "<style scoped>\n",
       "    .dataframe tbody tr th:only-of-type {\n",
       "        vertical-align: middle;\n",
       "    }\n",
       "\n",
       "    .dataframe tbody tr th {\n",
       "        vertical-align: top;\n",
       "    }\n",
       "\n",
       "    .dataframe thead th {\n",
       "        text-align: right;\n",
       "    }\n",
       "</style>\n",
       "<table border=\"1\" class=\"dataframe\">\n",
       "  <thead>\n",
       "    <tr style=\"text-align: right;\">\n",
       "      <th></th>\n",
       "      <th>Models</th>\n",
       "      <th>train_Score</th>\n",
       "      <th>val_Score</th>\n",
       "    </tr>\n",
       "  </thead>\n",
       "  <tbody>\n",
       "    <tr>\n",
       "      <th>0</th>\n",
       "      <td>CatBoost</td>\n",
       "      <td>0.164064</td>\n",
       "      <td>0.164993</td>\n",
       "    </tr>\n",
       "    <tr>\n",
       "      <th>1</th>\n",
       "      <td>GradientBoost</td>\n",
       "      <td>0.165942</td>\n",
       "      <td>0.164364</td>\n",
       "    </tr>\n",
       "    <tr>\n",
       "      <th>2</th>\n",
       "      <td>XGBoost</td>\n",
       "      <td>0.183586</td>\n",
       "      <td>0.162318</td>\n",
       "    </tr>\n",
       "    <tr>\n",
       "      <th>3</th>\n",
       "      <td>AdaBoost</td>\n",
       "      <td>0.149681</td>\n",
       "      <td>0.154836</td>\n",
       "    </tr>\n",
       "    <tr>\n",
       "      <th>4</th>\n",
       "      <td>Linear Regression</td>\n",
       "      <td>0.147669</td>\n",
       "      <td>0.152969</td>\n",
       "    </tr>\n",
       "    <tr>\n",
       "      <th>5</th>\n",
       "      <td>Ridge Regressor</td>\n",
       "      <td>0.147669</td>\n",
       "      <td>0.152967</td>\n",
       "    </tr>\n",
       "    <tr>\n",
       "      <th>6</th>\n",
       "      <td>Bagging Regressor</td>\n",
       "      <td>0.827096</td>\n",
       "      <td>0.046159</td>\n",
       "    </tr>\n",
       "    <tr>\n",
       "      <th>7</th>\n",
       "      <td>Random Forest</td>\n",
       "      <td>0.826748</td>\n",
       "      <td>0.044856</td>\n",
       "    </tr>\n",
       "    <tr>\n",
       "      <th>8</th>\n",
       "      <td>Decision Tree</td>\n",
       "      <td>0.945603</td>\n",
       "      <td>-0.757944</td>\n",
       "    </tr>\n",
       "  </tbody>\n",
       "</table>\n",
       "</div>"
      ],
      "text/plain": [
       "              Models  train_Score  val_Score\n",
       "0           CatBoost     0.164064   0.164993\n",
       "1      GradientBoost     0.165942   0.164364\n",
       "2            XGBoost     0.183586   0.162318\n",
       "3           AdaBoost     0.149681   0.154836\n",
       "4  Linear Regression     0.147669   0.152969\n",
       "5    Ridge Regressor     0.147669   0.152967\n",
       "6  Bagging Regressor     0.827096   0.046159\n",
       "7      Random Forest     0.826748   0.044856\n",
       "8      Decision Tree     0.945603  -0.757944"
      ]
     },
     "execution_count": 92,
     "metadata": {},
     "output_type": "execute_result"
    }
   ],
   "source": [
    "results.sort_values('val_Score',ascending=False,ignore_index=True)"
   ]
  },
  {
   "cell_type": "markdown",
   "id": "a7a3d2db",
   "metadata": {},
   "source": [
    "As we can see, the catboost regressor is performing the best on the validation data. "
   ]
  },
  {
   "cell_type": "markdown",
   "id": "41ad12dd",
   "metadata": {},
   "source": [
    "# Final Model"
   ]
  },
  {
   "cell_type": "code",
   "execution_count": 94,
   "id": "05ce4362",
   "metadata": {},
   "outputs": [],
   "source": [
    "# Retaining our original train and test data\n",
    "X_train=df.iloc[:len(train_data),:]\n",
    "X_test=df.iloc[len(train_data):,:]\n",
    "Y_train = train_data.iloc[:,-1]"
   ]
  },
  {
   "cell_type": "code",
   "execution_count": 95,
   "id": "6d99b282",
   "metadata": {},
   "outputs": [
    {
     "data": {
      "text/html": [
       "<div>\n",
       "<style scoped>\n",
       "    .dataframe tbody tr th:only-of-type {\n",
       "        vertical-align: middle;\n",
       "    }\n",
       "\n",
       "    .dataframe tbody tr th {\n",
       "        vertical-align: top;\n",
       "    }\n",
       "\n",
       "    .dataframe thead th {\n",
       "        text-align: right;\n",
       "    }\n",
       "</style>\n",
       "<table border=\"1\" class=\"dataframe\">\n",
       "  <thead>\n",
       "    <tr style=\"text-align: right;\">\n",
       "      <th></th>\n",
       "      <th>gender</th>\n",
       "      <th>area</th>\n",
       "      <th>qualification</th>\n",
       "      <th>income</th>\n",
       "      <th>marital_status</th>\n",
       "      <th>vintage</th>\n",
       "      <th>claim_amount</th>\n",
       "      <th>num_policies</th>\n",
       "      <th>policy</th>\n",
       "      <th>type_of_policy</th>\n",
       "    </tr>\n",
       "  </thead>\n",
       "  <tbody>\n",
       "    <tr>\n",
       "      <th>0</th>\n",
       "      <td>1.0</td>\n",
       "      <td>1.0</td>\n",
       "      <td>0.0</td>\n",
       "      <td>0.333333</td>\n",
       "      <td>1.0</td>\n",
       "      <td>0.625</td>\n",
       "      <td>0.177968</td>\n",
       "      <td>1.0</td>\n",
       "      <td>0.0</td>\n",
       "      <td>0.5</td>\n",
       "    </tr>\n",
       "    <tr>\n",
       "      <th>1</th>\n",
       "      <td>1.0</td>\n",
       "      <td>0.0</td>\n",
       "      <td>0.5</td>\n",
       "      <td>0.333333</td>\n",
       "      <td>0.0</td>\n",
       "      <td>1.000</td>\n",
       "      <td>0.156144</td>\n",
       "      <td>1.0</td>\n",
       "      <td>0.0</td>\n",
       "      <td>0.5</td>\n",
       "    </tr>\n",
       "    <tr>\n",
       "      <th>2</th>\n",
       "      <td>1.0</td>\n",
       "      <td>1.0</td>\n",
       "      <td>0.0</td>\n",
       "      <td>0.333333</td>\n",
       "      <td>1.0</td>\n",
       "      <td>1.000</td>\n",
       "      <td>0.079886</td>\n",
       "      <td>1.0</td>\n",
       "      <td>0.0</td>\n",
       "      <td>0.5</td>\n",
       "    </tr>\n",
       "    <tr>\n",
       "      <th>3</th>\n",
       "      <td>0.0</td>\n",
       "      <td>0.0</td>\n",
       "      <td>0.5</td>\n",
       "      <td>0.333333</td>\n",
       "      <td>0.0</td>\n",
       "      <td>0.875</td>\n",
       "      <td>0.000000</td>\n",
       "      <td>1.0</td>\n",
       "      <td>0.0</td>\n",
       "      <td>0.5</td>\n",
       "    </tr>\n",
       "    <tr>\n",
       "      <th>4</th>\n",
       "      <td>1.0</td>\n",
       "      <td>1.0</td>\n",
       "      <td>0.5</td>\n",
       "      <td>1.000000</td>\n",
       "      <td>1.0</td>\n",
       "      <td>0.750</td>\n",
       "      <td>0.107826</td>\n",
       "      <td>1.0</td>\n",
       "      <td>0.0</td>\n",
       "      <td>0.0</td>\n",
       "    </tr>\n",
       "    <tr>\n",
       "      <th>...</th>\n",
       "      <td>...</td>\n",
       "      <td>...</td>\n",
       "      <td>...</td>\n",
       "      <td>...</td>\n",
       "      <td>...</td>\n",
       "      <td>...</td>\n",
       "      <td>...</td>\n",
       "      <td>...</td>\n",
       "      <td>...</td>\n",
       "      <td>...</td>\n",
       "    </tr>\n",
       "    <tr>\n",
       "      <th>89387</th>\n",
       "      <td>1.0</td>\n",
       "      <td>0.0</td>\n",
       "      <td>0.5</td>\n",
       "      <td>1.000000</td>\n",
       "      <td>0.0</td>\n",
       "      <td>0.750</td>\n",
       "      <td>0.000000</td>\n",
       "      <td>1.0</td>\n",
       "      <td>0.5</td>\n",
       "      <td>0.5</td>\n",
       "    </tr>\n",
       "    <tr>\n",
       "      <th>89388</th>\n",
       "      <td>1.0</td>\n",
       "      <td>1.0</td>\n",
       "      <td>0.0</td>\n",
       "      <td>0.333333</td>\n",
       "      <td>1.0</td>\n",
       "      <td>0.000</td>\n",
       "      <td>0.119782</td>\n",
       "      <td>1.0</td>\n",
       "      <td>0.0</td>\n",
       "      <td>0.5</td>\n",
       "    </tr>\n",
       "    <tr>\n",
       "      <th>89389</th>\n",
       "      <td>0.0</td>\n",
       "      <td>1.0</td>\n",
       "      <td>0.0</td>\n",
       "      <td>0.333333</td>\n",
       "      <td>0.0</td>\n",
       "      <td>0.500</td>\n",
       "      <td>0.103369</td>\n",
       "      <td>1.0</td>\n",
       "      <td>0.5</td>\n",
       "      <td>0.5</td>\n",
       "    </tr>\n",
       "    <tr>\n",
       "      <th>89390</th>\n",
       "      <td>0.0</td>\n",
       "      <td>0.0</td>\n",
       "      <td>0.5</td>\n",
       "      <td>0.000000</td>\n",
       "      <td>0.0</td>\n",
       "      <td>1.000</td>\n",
       "      <td>0.000000</td>\n",
       "      <td>1.0</td>\n",
       "      <td>0.5</td>\n",
       "      <td>0.5</td>\n",
       "    </tr>\n",
       "    <tr>\n",
       "      <th>89391</th>\n",
       "      <td>0.0</td>\n",
       "      <td>0.0</td>\n",
       "      <td>0.5</td>\n",
       "      <td>0.333333</td>\n",
       "      <td>0.0</td>\n",
       "      <td>0.750</td>\n",
       "      <td>0.000000</td>\n",
       "      <td>1.0</td>\n",
       "      <td>0.5</td>\n",
       "      <td>0.0</td>\n",
       "    </tr>\n",
       "  </tbody>\n",
       "</table>\n",
       "<p>89392 rows × 10 columns</p>\n",
       "</div>"
      ],
      "text/plain": [
       "       gender  area  qualification    income  marital_status  vintage  \\\n",
       "0         1.0   1.0            0.0  0.333333             1.0    0.625   \n",
       "1         1.0   0.0            0.5  0.333333             0.0    1.000   \n",
       "2         1.0   1.0            0.0  0.333333             1.0    1.000   \n",
       "3         0.0   0.0            0.5  0.333333             0.0    0.875   \n",
       "4         1.0   1.0            0.5  1.000000             1.0    0.750   \n",
       "...       ...   ...            ...       ...             ...      ...   \n",
       "89387     1.0   0.0            0.5  1.000000             0.0    0.750   \n",
       "89388     1.0   1.0            0.0  0.333333             1.0    0.000   \n",
       "89389     0.0   1.0            0.0  0.333333             0.0    0.500   \n",
       "89390     0.0   0.0            0.5  0.000000             0.0    1.000   \n",
       "89391     0.0   0.0            0.5  0.333333             0.0    0.750   \n",
       "\n",
       "       claim_amount  num_policies  policy  type_of_policy  \n",
       "0          0.177968           1.0     0.0             0.5  \n",
       "1          0.156144           1.0     0.0             0.5  \n",
       "2          0.079886           1.0     0.0             0.5  \n",
       "3          0.000000           1.0     0.0             0.5  \n",
       "4          0.107826           1.0     0.0             0.0  \n",
       "...             ...           ...     ...             ...  \n",
       "89387      0.000000           1.0     0.5             0.5  \n",
       "89388      0.119782           1.0     0.0             0.5  \n",
       "89389      0.103369           1.0     0.5             0.5  \n",
       "89390      0.000000           1.0     0.5             0.5  \n",
       "89391      0.000000           1.0     0.5             0.0  \n",
       "\n",
       "[89392 rows x 10 columns]"
      ]
     },
     "execution_count": 95,
     "metadata": {},
     "output_type": "execute_result"
    }
   ],
   "source": [
    "X_train"
   ]
  },
  {
   "cell_type": "code",
   "execution_count": 96,
   "id": "dd41a8bc",
   "metadata": {},
   "outputs": [
    {
     "data": {
      "text/html": [
       "<div>\n",
       "<style scoped>\n",
       "    .dataframe tbody tr th:only-of-type {\n",
       "        vertical-align: middle;\n",
       "    }\n",
       "\n",
       "    .dataframe tbody tr th {\n",
       "        vertical-align: top;\n",
       "    }\n",
       "\n",
       "    .dataframe thead th {\n",
       "        text-align: right;\n",
       "    }\n",
       "</style>\n",
       "<table border=\"1\" class=\"dataframe\">\n",
       "  <thead>\n",
       "    <tr style=\"text-align: right;\">\n",
       "      <th></th>\n",
       "      <th>gender</th>\n",
       "      <th>area</th>\n",
       "      <th>qualification</th>\n",
       "      <th>income</th>\n",
       "      <th>marital_status</th>\n",
       "      <th>vintage</th>\n",
       "      <th>claim_amount</th>\n",
       "      <th>num_policies</th>\n",
       "      <th>policy</th>\n",
       "      <th>type_of_policy</th>\n",
       "    </tr>\n",
       "  </thead>\n",
       "  <tbody>\n",
       "    <tr>\n",
       "      <th>89392</th>\n",
       "      <td>0.0</td>\n",
       "      <td>0.0</td>\n",
       "      <td>0.5</td>\n",
       "      <td>0.333333</td>\n",
       "      <td>0.0</td>\n",
       "      <td>0.750</td>\n",
       "      <td>0.065593</td>\n",
       "      <td>1.0</td>\n",
       "      <td>0.5</td>\n",
       "      <td>1.0</td>\n",
       "    </tr>\n",
       "    <tr>\n",
       "      <th>89393</th>\n",
       "      <td>0.0</td>\n",
       "      <td>1.0</td>\n",
       "      <td>0.5</td>\n",
       "      <td>0.000000</td>\n",
       "      <td>0.0</td>\n",
       "      <td>0.500</td>\n",
       "      <td>0.126083</td>\n",
       "      <td>1.0</td>\n",
       "      <td>0.0</td>\n",
       "      <td>0.5</td>\n",
       "    </tr>\n",
       "    <tr>\n",
       "      <th>89394</th>\n",
       "      <td>1.0</td>\n",
       "      <td>0.0</td>\n",
       "      <td>0.5</td>\n",
       "      <td>0.333333</td>\n",
       "      <td>1.0</td>\n",
       "      <td>0.875</td>\n",
       "      <td>0.089906</td>\n",
       "      <td>1.0</td>\n",
       "      <td>0.5</td>\n",
       "      <td>0.0</td>\n",
       "    </tr>\n",
       "    <tr>\n",
       "      <th>89395</th>\n",
       "      <td>0.0</td>\n",
       "      <td>0.0</td>\n",
       "      <td>0.0</td>\n",
       "      <td>1.000000</td>\n",
       "      <td>1.0</td>\n",
       "      <td>0.250</td>\n",
       "      <td>0.000000</td>\n",
       "      <td>1.0</td>\n",
       "      <td>0.5</td>\n",
       "      <td>1.0</td>\n",
       "    </tr>\n",
       "    <tr>\n",
       "      <th>89396</th>\n",
       "      <td>0.0</td>\n",
       "      <td>1.0</td>\n",
       "      <td>0.5</td>\n",
       "      <td>0.000000</td>\n",
       "      <td>0.0</td>\n",
       "      <td>0.625</td>\n",
       "      <td>0.432133</td>\n",
       "      <td>1.0</td>\n",
       "      <td>0.5</td>\n",
       "      <td>1.0</td>\n",
       "    </tr>\n",
       "    <tr>\n",
       "      <th>...</th>\n",
       "      <td>...</td>\n",
       "      <td>...</td>\n",
       "      <td>...</td>\n",
       "      <td>...</td>\n",
       "      <td>...</td>\n",
       "      <td>...</td>\n",
       "      <td>...</td>\n",
       "      <td>...</td>\n",
       "      <td>...</td>\n",
       "      <td>...</td>\n",
       "    </tr>\n",
       "    <tr>\n",
       "      <th>148982</th>\n",
       "      <td>1.0</td>\n",
       "      <td>0.0</td>\n",
       "      <td>0.0</td>\n",
       "      <td>0.333333</td>\n",
       "      <td>1.0</td>\n",
       "      <td>0.750</td>\n",
       "      <td>0.000000</td>\n",
       "      <td>0.0</td>\n",
       "      <td>0.0</td>\n",
       "      <td>1.0</td>\n",
       "    </tr>\n",
       "    <tr>\n",
       "      <th>148983</th>\n",
       "      <td>1.0</td>\n",
       "      <td>1.0</td>\n",
       "      <td>0.5</td>\n",
       "      <td>0.333333</td>\n",
       "      <td>0.0</td>\n",
       "      <td>0.750</td>\n",
       "      <td>0.000000</td>\n",
       "      <td>0.0</td>\n",
       "      <td>1.0</td>\n",
       "      <td>0.0</td>\n",
       "    </tr>\n",
       "    <tr>\n",
       "      <th>148984</th>\n",
       "      <td>0.0</td>\n",
       "      <td>1.0</td>\n",
       "      <td>0.5</td>\n",
       "      <td>0.000000</td>\n",
       "      <td>1.0</td>\n",
       "      <td>0.500</td>\n",
       "      <td>0.102139</td>\n",
       "      <td>1.0</td>\n",
       "      <td>0.5</td>\n",
       "      <td>0.5</td>\n",
       "    </tr>\n",
       "    <tr>\n",
       "      <th>148985</th>\n",
       "      <td>1.0</td>\n",
       "      <td>0.0</td>\n",
       "      <td>0.0</td>\n",
       "      <td>0.333333</td>\n",
       "      <td>0.0</td>\n",
       "      <td>0.125</td>\n",
       "      <td>0.088707</td>\n",
       "      <td>1.0</td>\n",
       "      <td>0.0</td>\n",
       "      <td>1.0</td>\n",
       "    </tr>\n",
       "    <tr>\n",
       "      <th>148986</th>\n",
       "      <td>0.0</td>\n",
       "      <td>1.0</td>\n",
       "      <td>0.0</td>\n",
       "      <td>0.333333</td>\n",
       "      <td>1.0</td>\n",
       "      <td>0.500</td>\n",
       "      <td>0.182547</td>\n",
       "      <td>1.0</td>\n",
       "      <td>0.5</td>\n",
       "      <td>0.5</td>\n",
       "    </tr>\n",
       "  </tbody>\n",
       "</table>\n",
       "<p>59595 rows × 10 columns</p>\n",
       "</div>"
      ],
      "text/plain": [
       "        gender  area  qualification    income  marital_status  vintage  \\\n",
       "89392      0.0   0.0            0.5  0.333333             0.0    0.750   \n",
       "89393      0.0   1.0            0.5  0.000000             0.0    0.500   \n",
       "89394      1.0   0.0            0.5  0.333333             1.0    0.875   \n",
       "89395      0.0   0.0            0.0  1.000000             1.0    0.250   \n",
       "89396      0.0   1.0            0.5  0.000000             0.0    0.625   \n",
       "...        ...   ...            ...       ...             ...      ...   \n",
       "148982     1.0   0.0            0.0  0.333333             1.0    0.750   \n",
       "148983     1.0   1.0            0.5  0.333333             0.0    0.750   \n",
       "148984     0.0   1.0            0.5  0.000000             1.0    0.500   \n",
       "148985     1.0   0.0            0.0  0.333333             0.0    0.125   \n",
       "148986     0.0   1.0            0.0  0.333333             1.0    0.500   \n",
       "\n",
       "        claim_amount  num_policies  policy  type_of_policy  \n",
       "89392       0.065593           1.0     0.5             1.0  \n",
       "89393       0.126083           1.0     0.0             0.5  \n",
       "89394       0.089906           1.0     0.5             0.0  \n",
       "89395       0.000000           1.0     0.5             1.0  \n",
       "89396       0.432133           1.0     0.5             1.0  \n",
       "...              ...           ...     ...             ...  \n",
       "148982      0.000000           0.0     0.0             1.0  \n",
       "148983      0.000000           0.0     1.0             0.0  \n",
       "148984      0.102139           1.0     0.5             0.5  \n",
       "148985      0.088707           1.0     0.0             1.0  \n",
       "148986      0.182547           1.0     0.5             0.5  \n",
       "\n",
       "[59595 rows x 10 columns]"
      ]
     },
     "execution_count": 96,
     "metadata": {},
     "output_type": "execute_result"
    }
   ],
   "source": [
    "X_test"
   ]
  },
  {
   "cell_type": "code",
   "execution_count": 97,
   "id": "a6cae6b0",
   "metadata": {},
   "outputs": [
    {
     "data": {
      "text/plain": [
       "0         64308\n",
       "1        515400\n",
       "2         64212\n",
       "3         97920\n",
       "4         59736\n",
       "          ...  \n",
       "89387     95736\n",
       "89388     67596\n",
       "89389    114120\n",
       "89390     71772\n",
       "89391    108144\n",
       "Name: cltv, Length: 89392, dtype: int64"
      ]
     },
     "execution_count": 97,
     "metadata": {},
     "output_type": "execute_result"
    }
   ],
   "source": [
    "Y_train"
   ]
  },
  {
   "cell_type": "code",
   "execution_count": 128,
   "id": "f2473e83",
   "metadata": {},
   "outputs": [],
   "source": [
    "# Creating final model based on the results and training it and making the predictions\n",
    "final_model = CatBoostRegressor(iterations=100,learning_rate=0.05,l2_leaf_reg=5,depth=6,random_state=0,verbose=0)\n",
    "final_model.fit(X_train,Y_train)\n",
    "predictions = final_model.predict(X_test)"
   ]
  },
  {
   "cell_type": "code",
   "execution_count": 129,
   "id": "1a5f8e0a",
   "metadata": {},
   "outputs": [
    {
     "data": {
      "text/plain": [
       "array([ 93156.73421877, 128108.5649    ,  95024.09120424, ...,\n",
       "       107012.88560903, 105063.35073174, 116122.42735343])"
      ]
     },
     "execution_count": 129,
     "metadata": {},
     "output_type": "execute_result"
    }
   ],
   "source": [
    "predictions"
   ]
  },
  {
   "cell_type": "code",
   "execution_count": 130,
   "id": "7fe881d9",
   "metadata": {},
   "outputs": [],
   "source": [
    "# Saving the predictions in a dataframe\n",
    "final_result=pd.DataFrame({'id':test_data['id'],'cltv':predictions})"
   ]
  },
  {
   "cell_type": "code",
   "execution_count": 131,
   "id": "0616b5b6",
   "metadata": {},
   "outputs": [
    {
     "data": {
      "text/html": [
       "<div>\n",
       "<style scoped>\n",
       "    .dataframe tbody tr th:only-of-type {\n",
       "        vertical-align: middle;\n",
       "    }\n",
       "\n",
       "    .dataframe tbody tr th {\n",
       "        vertical-align: top;\n",
       "    }\n",
       "\n",
       "    .dataframe thead th {\n",
       "        text-align: right;\n",
       "    }\n",
       "</style>\n",
       "<table border=\"1\" class=\"dataframe\">\n",
       "  <thead>\n",
       "    <tr style=\"text-align: right;\">\n",
       "      <th></th>\n",
       "      <th>id</th>\n",
       "      <th>cltv</th>\n",
       "    </tr>\n",
       "  </thead>\n",
       "  <tbody>\n",
       "    <tr>\n",
       "      <th>0</th>\n",
       "      <td>89393</td>\n",
       "      <td>93156.734219</td>\n",
       "    </tr>\n",
       "    <tr>\n",
       "      <th>1</th>\n",
       "      <td>89394</td>\n",
       "      <td>128108.564900</td>\n",
       "    </tr>\n",
       "    <tr>\n",
       "      <th>2</th>\n",
       "      <td>89395</td>\n",
       "      <td>95024.091204</td>\n",
       "    </tr>\n",
       "    <tr>\n",
       "      <th>3</th>\n",
       "      <td>89396</td>\n",
       "      <td>88872.022390</td>\n",
       "    </tr>\n",
       "    <tr>\n",
       "      <th>4</th>\n",
       "      <td>89397</td>\n",
       "      <td>137405.552014</td>\n",
       "    </tr>\n",
       "    <tr>\n",
       "      <th>...</th>\n",
       "      <td>...</td>\n",
       "      <td>...</td>\n",
       "    </tr>\n",
       "    <tr>\n",
       "      <th>59590</th>\n",
       "      <td>148983</td>\n",
       "      <td>48307.284635</td>\n",
       "    </tr>\n",
       "    <tr>\n",
       "      <th>59591</th>\n",
       "      <td>148984</td>\n",
       "      <td>54025.462386</td>\n",
       "    </tr>\n",
       "    <tr>\n",
       "      <th>59592</th>\n",
       "      <td>148985</td>\n",
       "      <td>107012.885609</td>\n",
       "    </tr>\n",
       "    <tr>\n",
       "      <th>59593</th>\n",
       "      <td>148986</td>\n",
       "      <td>105063.350732</td>\n",
       "    </tr>\n",
       "    <tr>\n",
       "      <th>59594</th>\n",
       "      <td>148987</td>\n",
       "      <td>116122.427353</td>\n",
       "    </tr>\n",
       "  </tbody>\n",
       "</table>\n",
       "<p>59595 rows × 2 columns</p>\n",
       "</div>"
      ],
      "text/plain": [
       "           id           cltv\n",
       "0       89393   93156.734219\n",
       "1       89394  128108.564900\n",
       "2       89395   95024.091204\n",
       "3       89396   88872.022390\n",
       "4       89397  137405.552014\n",
       "...       ...            ...\n",
       "59590  148983   48307.284635\n",
       "59591  148984   54025.462386\n",
       "59592  148985  107012.885609\n",
       "59593  148986  105063.350732\n",
       "59594  148987  116122.427353\n",
       "\n",
       "[59595 rows x 2 columns]"
      ]
     },
     "execution_count": 131,
     "metadata": {},
     "output_type": "execute_result"
    }
   ],
   "source": [
    "final_result"
   ]
  },
  {
   "cell_type": "code",
   "execution_count": 132,
   "id": "3c6b75c9",
   "metadata": {},
   "outputs": [
    {
     "name": "stdout",
     "output_type": "stream",
     "text": [
      "Saved file: cltv_predictions_5.csv\n"
     ]
    }
   ],
   "source": [
    "filename = 'cltv_predictions_5.csv'\n",
    "\n",
    "final_result.to_csv(filename,index=False)\n",
    "\n",
    "print('Saved file: ' + filename)"
   ]
  },
  {
   "cell_type": "code",
   "execution_count": null,
   "id": "072d2bdb",
   "metadata": {},
   "outputs": [],
   "source": []
  }
 ],
 "metadata": {
  "kernelspec": {
   "display_name": "Python 3 (ipykernel)",
   "language": "python",
   "name": "python3"
  },
  "language_info": {
   "codemirror_mode": {
    "name": "ipython",
    "version": 3
   },
   "file_extension": ".py",
   "mimetype": "text/x-python",
   "name": "python",
   "nbconvert_exporter": "python",
   "pygments_lexer": "ipython3",
   "version": "3.9.12"
  }
 },
 "nbformat": 4,
 "nbformat_minor": 5
}
